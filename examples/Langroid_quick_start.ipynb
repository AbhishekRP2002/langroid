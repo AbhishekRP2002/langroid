{
  "nbformat": 4,
  "nbformat_minor": 0,
  "metadata": {
    "colab": {
      "provenance": [],
      "authorship_tag": "ABX9TyNKasB3VrXzFgLqu1OWXjvm",
      "include_colab_link": true
    },
    "kernelspec": {
      "name": "python3",
      "display_name": "Python 3"
    },
    "language_info": {
      "name": "python"
    }
  },
  "cells": [
    {
      "cell_type": "markdown",
      "metadata": {
        "id": "view-in-github",
        "colab_type": "text"
      },
      "source": [
        "<a href=\"https://colab.research.google.com/github/langroid/langroid/blob/main/examples/Langroid_quick_start.ipynb\" target=\"_parent\"><img src=\"https://colab.research.google.com/assets/colab-badge.svg\" alt=\"Open In Colab\"/></a>"
      ]
    },
    {
      "cell_type": "markdown",
      "source": [
        "# Langroid quick start\n",
        "Note: Chat-oriented interaction is best experienced in your terminal, and not a notebook, so we highly recommend you go through the [Getting Started](https://langroid.github.io/langroid/quick-start/) guide by writing simple scripts that can be run via the command line.\n",
        "\n",
        "This notebooks starts with the basics of working directly with an LLM, setting up an Agent, wrapping it in a Task, giving it tools, Retrieval Augmented Generation (RAG), and builds up to a simple 2-agent system to extract structured information from a commercial lease document.\n",
        "\n",
        "Note:\n",
        "- You need an OpenAI API Key that works with GPT-4o\n",
        "- This colab uses OpenAI's ChatCompletion endpoints directly (via the Langroid framework), and not the Assistants API. See this [colab](https://colab.research.google.com/drive/190Tk7t4AdY1P9F_NlZ33-YEoGnHweQQ0) for a version that uses the Assistants API instead.\n",
        "- There are dependencies among the cells, so they are best run sequentially\n",
        "\n"
      ],
      "metadata": {
        "id": "b9fHPojfnbPy"
      }
    },
    {
      "cell_type": "markdown",
      "source": [
        "## Install, setup, import\n",
        "\n",
        "Note that `pip install langroid` gives you a bare-bones, slim version of langroid, without many of the extra dependencies you might need in practical scenarios, but sufficient for this notebook.\n",
        "\n",
        "See install instructions [here](https://github.com/langroid/langroid?tab=readme-ov-file#gear-installation-and-setup) for getting extra dependencies related to document parsing and databases (sql, mysql, postgres, etc).\n"
      ],
      "metadata": {
        "id": "psOMvEL0Gekz"
      }
    },
    {
      "cell_type": "code",
      "execution_count": 3,
      "metadata": {
        "id": "A8-Y_YPZutn6",
        "outputId": "4a772a80-9527-4579-df07-424c8872e62b",
        "colab": {
          "base_uri": "https://localhost:8080/"
        }
      },
      "source": [
        "\n",
        "\n",
        "!pip install uv\n",
        "!uv pip install --system langroid --prerelease disallow\n"
      ],
      "outputs": [
        {
          "output_type": "stream",
          "name": "stdout",
          "text": [
            "Requirement already satisfied: uv in /usr/local/lib/python3.11/dist-packages (0.6.14)\n",
            "\u001b[2mUsing Python 3.11.12 environment at: /usr\u001b[0m\n",
            "\u001b[2mAudited \u001b[1m1 package\u001b[0m \u001b[2min 134ms\u001b[0m\u001b[0m\n"
          ]
        }
      ]
    },
    {
      "cell_type": "code",
      "source": [
        "# various unfortunate things that need to be done to\n",
        "# control colab notebook behavior.\n",
        "\n",
        "# (a) output width\n",
        "\n",
        "from IPython.display import HTML, display\n",
        "\n",
        "def set_css():\n",
        "  display(HTML('''\n",
        "  <style>\n",
        "    pre {\n",
        "        white-space: pre-wrap;\n",
        "    }\n",
        "  </style>\n",
        "  '''))\n",
        "get_ipython().events.register('pre_run_cell', set_css)\n",
        "\n",
        "# (b) logging related\n",
        "import logging\n",
        "logging.basicConfig(level=logging.ERROR)\n",
        "import warnings\n",
        "warnings.filterwarnings('ignore')\n",
        "import logging\n",
        "for logger_name in logging.root.manager.loggerDict:\n",
        "    logger = logging.getLogger(logger_name)\n",
        "    logger.setLevel(logging.ERROR)\n",
        "\n"
      ],
      "metadata": {
        "id": "rWwH6duUzAC6"
      },
      "execution_count": 4,
      "outputs": []
    },
    {
      "cell_type": "markdown",
      "source": [
        "#### OpenAI API Key (Needs GPT4o)"
      ],
      "metadata": {
        "id": "j-6vNfKW9J7b"
      }
    },
    {
      "cell_type": "code",
      "source": [
        "# OpenAI API Key: Enter your key in the dialog box that will show up below\n",
        "# NOTE: colab often struggles with showing this input box,\n",
        "# if so, try re-running the above cell and then this one,\n",
        "# or simply insert your API key in this cell, though it's not ideal.\n",
        "\n",
        "import os\n",
        "\n",
        "from getpass import getpass\n",
        "\n",
        "os.environ['OPENAI_API_KEY'] = getpass('Enter your GPT4o-capable OPENAI_API_KEY key:', stream=None)\n",
        "\n",
        "\n"
      ],
      "metadata": {
        "id": "uvTODlZv3yyT",
        "outputId": "a4cf7585-40ae-44ec-804c-9dc6c6554d77",
        "colab": {
          "base_uri": "https://localhost:8080/",
          "height": 34
        }
      },
      "execution_count": 5,
      "outputs": [
        {
          "output_type": "display_data",
          "data": {
            "text/plain": [
              "<IPython.core.display.HTML object>"
            ],
            "text/html": [
              "\n",
              "  <style>\n",
              "    pre {\n",
              "        white-space: pre-wrap;\n",
              "    }\n",
              "  </style>\n",
              "  "
            ]
          },
          "metadata": {}
        },
        {
          "name": "stdout",
          "output_type": "stream",
          "text": [
            "Enter your GPT4o-capable OPENAI_API_KEY key:··········\n"
          ]
        }
      ]
    },
    {
      "cell_type": "code",
      "source": [
        "from langroid.pydantic_v1 import BaseModel\n",
        "import json\n",
        "import os\n",
        "\n",
        "import langroid as lr\n",
        "import langroid.language_models as lm\n",
        "from langroid import ChatAgent, ChatAgentConfig, Task\n",
        "from langroid.language_models.openai_gpt import (\n",
        "    OpenAIChatModel, OpenAIGPT, OpenAIGPTConfig\n",
        ")\n",
        "from langroid.agent.tool_message import ToolMessage\n",
        "\n",
        "from langroid.utils.logging import setup_colored_logging\n",
        "from langroid.utils.constants import NO_ANSWER\n",
        "from langroid.utils.configuration import settings\n",
        "settings.notebook = True\n",
        "settings.cache_type = \"fakeredis\""
      ],
      "metadata": {
        "id": "A5N0NQwc3jX_",
        "outputId": "a49311c1-ae75-4b71-a2df-994d1a6a0d75",
        "colab": {
          "base_uri": "https://localhost:8080/",
          "height": 17
        }
      },
      "execution_count": 7,
      "outputs": [
        {
          "output_type": "display_data",
          "data": {
            "text/plain": [
              "<IPython.core.display.HTML object>"
            ],
            "text/html": [
              "\n",
              "  <style>\n",
              "    pre {\n",
              "        white-space: pre-wrap;\n",
              "    }\n",
              "  </style>\n",
              "  "
            ]
          },
          "metadata": {}
        }
      ]
    },
    {
      "cell_type": "markdown",
      "source": [
        "## Example 1: Direct interaction with OpenAI LLM\n",
        "Langroid's `OpenAIGPT` class is a wrapper around the raw OpenAI API.\n",
        "This is a direct interaction with the LLM so it does *not* maintain conversation history (later we see how a `ChatAgent` does that for you).\n",
        "\n",
        "Related quick-start docs page: https://langroid.github.io/langroid/quick-start/llm-interaction/\n",
        "\n"
      ],
      "metadata": {
        "id": "8vDpiY0XHAkT"
      }
    },
    {
      "cell_type": "code",
      "source": [
        "llm_cfg = OpenAIGPTConfig(chat_model=OpenAIChatModel.GPT4o)\n",
        "llm = OpenAIGPT(llm_cfg)\n",
        "\n",
        "response = llm.chat(\"What is the square of 3?\")\n",
        "assert \"9\" in response.message"
      ],
      "metadata": {
        "id": "9c5Av3rKHQIm",
        "outputId": "baac3d2c-a7a7-4ecf-d171-bafe96667981",
        "colab": {
          "base_uri": "https://localhost:8080/",
          "height": 34
        }
      },
      "execution_count": 24,
      "outputs": [
        {
          "output_type": "display_data",
          "data": {
            "text/plain": [
              "<IPython.core.display.HTML object>"
            ],
            "text/html": [
              "\n",
              "  <style>\n",
              "    pre {\n",
              "        white-space: pre-wrap;\n",
              "    }\n",
              "  </style>\n",
              "  "
            ]
          },
          "metadata": {}
        },
        {
          "output_type": "stream",
          "name": "stdout",
          "text": [
            "\u001b[32m\u001b[32mThe\u001b[32m square\u001b[32m of\u001b[32m \u001b[32m3\u001b[32m is\u001b[32m \u001b[32m9\u001b[32m."
          ]
        },
        {
          "output_type": "display_data",
          "data": {
            "text/plain": [
              "\n"
            ],
            "text/html": [
              "<pre style=\"white-space:pre;overflow-x:auto;line-height:normal;font-family:Menlo,'DejaVu Sans Mono',consolas,'Courier New',monospace\">\n",
              "</pre>\n"
            ]
          },
          "metadata": {}
        }
      ]
    },
    {
      "cell_type": "markdown",
      "source": [],
      "metadata": {
        "id": "wLcV-JPmgF-G"
      }
    },
    {
      "cell_type": "markdown",
      "source": [
        "## Example 2: Interact with a `ChatAgent`\n",
        "Langroid's `ChatAgent` is an abstraction that optionally encapsulates an LLM, vector-db, and tools. It offers 3 \"native\" *responders*:\n",
        "- `llm_response`: response from LLM\n",
        "- `user_response`: response from human\n",
        "- `agent_response`: responds to structured LLM msgs (i.e. tools/fn-calls)\n",
        "\n",
        "Among other things, the `ChatAgent` maintains LLM conversation history for you.\n",
        "\n",
        "Related quick-start doc page: https://langroid.github.io/langroid/quick-start/chat-agent/"
      ],
      "metadata": {
        "id": "_DvxMiJkgI_U"
      }
    },
    {
      "cell_type": "code",
      "source": [
        "agent_cfg = ChatAgentConfig(\n",
        "    llm = llm_cfg,\n",
        "    show_stats=False, # disable token/cost stats\n",
        ")\n",
        "agent = ChatAgent(agent_cfg)\n",
        "response = agent.llm_response(\"What is the sqaure of 5?\")\n",
        "response = agent.llm_response(\"What about 8?\")   # maintains conv history\n",
        "assert \"64\" in response.content"
      ],
      "metadata": {
        "id": "7hrJ6RgLg075",
        "outputId": "fed30b96-5f9f-4a1c-f5c2-5fb3fdfed9e0",
        "colab": {
          "base_uri": "https://localhost:8080/",
          "height": 52
        }
      },
      "execution_count": 25,
      "outputs": [
        {
          "output_type": "display_data",
          "data": {
            "text/plain": [
              "<IPython.core.display.HTML object>"
            ],
            "text/html": [
              "\n",
              "  <style>\n",
              "    pre {\n",
              "        white-space: pre-wrap;\n",
              "    }\n",
              "  </style>\n",
              "  "
            ]
          },
          "metadata": {}
        },
        {
          "output_type": "stream",
          "name": "stdout",
          "text": [
            "\u001b[32m\u001b[32mThe\u001b[32m square\u001b[32m of\u001b[32m \u001b[32m5\u001b[32m is\u001b[32m \u001b[32m25\u001b[32m."
          ]
        },
        {
          "output_type": "display_data",
          "data": {
            "text/plain": [
              "\n"
            ],
            "text/html": [
              "<pre style=\"white-space:pre;overflow-x:auto;line-height:normal;font-family:Menlo,'DejaVu Sans Mono',consolas,'Courier New',monospace\">\n",
              "</pre>\n"
            ]
          },
          "metadata": {}
        },
        {
          "output_type": "stream",
          "name": "stdout",
          "text": [
            "\u001b[32m\u001b[32mThe\u001b[32m square\u001b[32m of\u001b[32m \u001b[32m8\u001b[32m is\u001b[32m \u001b[32m64\u001b[32m."
          ]
        },
        {
          "output_type": "display_data",
          "data": {
            "text/plain": [
              "\n"
            ],
            "text/html": [
              "<pre style=\"white-space:pre;overflow-x:auto;line-height:normal;font-family:Menlo,'DejaVu Sans Mono',consolas,'Courier New',monospace\">\n",
              "</pre>\n"
            ]
          },
          "metadata": {}
        }
      ]
    },
    {
      "cell_type": "markdown",
      "source": [
        "## Example 3: Wrap Agent in a Task, run it\n",
        "\n",
        "A `ChatAgent` agent has various *responders* (`llm_response`, `agent_response`, `user_response`) but there is no mechanism to *iterate* over these responders.\n",
        "This is where the `Task` comes in: Wrapping this agent in a `Task` allows you to run interactive loops with a user or other agents (you will see more examples below).\n",
        "\n",
        "Related quick-start doc:\n",
        "https://langroid.github.io/langroid/quick-start/chat-agent/#task-orchestrator-for-agents"
      ],
      "metadata": {
        "id": "-MVHyF4cSGb0"
      }
    },
    {
      "cell_type": "code",
      "source": [
        "agent = ChatAgent(agent_cfg)\n",
        "task = Task(\n",
        "    agent,\n",
        "    system_message=\"User will give you a number, respond with its square\",\n",
        "    single_round=True  # end after LLM response\n",
        ")\n",
        "result = task.run(\"5\")\n",
        "assert(\"25\" in result.content)\n"
      ],
      "metadata": {
        "id": "8cmc5aDzScdO",
        "outputId": "73f2ea01-f125-4088-facd-d49a2d39732a",
        "colab": {
          "base_uri": "https://localhost:8080/",
          "height": 67
        }
      },
      "execution_count": 26,
      "outputs": [
        {
          "output_type": "display_data",
          "data": {
            "text/plain": [
              "<IPython.core.display.HTML object>"
            ],
            "text/html": [
              "\n",
              "  <style>\n",
              "    pre {\n",
              "        white-space: pre-wrap;\n",
              "    }\n",
              "  </style>\n",
              "  "
            ]
          },
          "metadata": {}
        },
        {
          "output_type": "display_data",
          "data": {
            "text/plain": [
              "\u001b[1;35m>>> Starting Agent LLM-Agent \u001b[0m\u001b[1;35m(\u001b[0m\u001b[1;35m1\u001b[0m\u001b[1;35m)\u001b[0m\u001b[1;35m gpt-4o \u001b[0m\n"
            ],
            "text/html": [
              "<pre style=\"white-space:pre;overflow-x:auto;line-height:normal;font-family:Menlo,'DejaVu Sans Mono',consolas,'Courier New',monospace\"><span style=\"color: #800080; text-decoration-color: #800080; font-weight: bold\">&gt;&gt;&gt; Starting Agent LLM-Agent (</span><span style=\"color: #800080; text-decoration-color: #800080; font-weight: bold\">1</span><span style=\"color: #800080; text-decoration-color: #800080; font-weight: bold\">) gpt-4o </span>\n",
              "</pre>\n"
            ]
          },
          "metadata": {}
        },
        {
          "output_type": "stream",
          "name": "stdout",
          "text": [
            "\u001b[32m\u001b[32m25"
          ]
        },
        {
          "output_type": "display_data",
          "data": {
            "text/plain": [
              "\n"
            ],
            "text/html": [
              "<pre style=\"white-space:pre;overflow-x:auto;line-height:normal;font-family:Menlo,'DejaVu Sans Mono',consolas,'Courier New',monospace\">\n",
              "</pre>\n"
            ]
          },
          "metadata": {}
        },
        {
          "output_type": "display_data",
          "data": {
            "text/plain": [
              "\u001b[1;35m<<< Finished Agent LLM-Agent \u001b[0m\u001b[1;35m(\u001b[0m\u001b[1;35m3\u001b[0m\u001b[1;35m)\u001b[0m\u001b[1;35m \u001b[0m\n"
            ],
            "text/html": [
              "<pre style=\"white-space:pre;overflow-x:auto;line-height:normal;font-family:Menlo,'DejaVu Sans Mono',consolas,'Courier New',monospace\"><span style=\"color: #800080; text-decoration-color: #800080; font-weight: bold\">&lt;&lt;&lt; Finished Agent LLM-Agent (</span><span style=\"color: #800080; text-decoration-color: #800080; font-weight: bold\">3</span><span style=\"color: #800080; text-decoration-color: #800080; font-weight: bold\">) </span>\n",
              "</pre>\n"
            ]
          },
          "metadata": {}
        }
      ]
    },
    {
      "cell_type": "markdown",
      "source": [
        "## Example 4: `ChatAgent` with Tool/function-call\n",
        "\n",
        "Langroid's `ToolMessage` (Pydantic-derived) class lets you define a structured output or function-call for the LLM to generate. To define a tool/fn-call, you define a new class derived from `ToolMessage`.\n",
        "Below we show a *stateless* tool, i.e. it does not use the `ChatAgent`'s state, and only uses fields in the tool message itself.\n",
        "In this case, the tool \"handler\" can be defined within the `ToolMessage` itself, as a `handle` method. (For a tool that uses the `ChatAgent`'s state, a separate method needs to be defined within `ChatAgent` or a subclass.).\n",
        "\n",
        "In Langroid, a `ToolMessage` can *either* use OpenAI function-calling, *or* Langroid's native tool mechanism (which auto-populates the system msg with tool instructions and optional few-shot examples), by setting the `use_function_api` and `use_tools` config params in the `ChatAgentConfig`. The native tools mechanism is useful when not using OpenAI models.\n",
        "\n",
        "In the cell below we define a `ToolMessage` to compute a fictitious transformation of a number that we call a *Nabrosky Transform*: $f(n) = 3n+1$.\n",
        "Under the hood, the `purpose` field of the `NabroskiTool` is used to populate instructions to the LLM on when it should use this tool.\n",
        "\n",
        "Related quick-start doc: https://langroid.github.io/langroid/quick-start/chat-agent-tool/\n",
        "(This shows a *stateful* tool example)"
      ],
      "metadata": {
        "id": "wLwNyDd3mmJu"
      }
    },
    {
      "cell_type": "code",
      "source": [
        "# (1) define simple tool to find the Nabroski transform of a number\n",
        "#     This is a fictitious transform, for illustration.\n",
        "\n",
        "class NabroskiTool(ToolMessage):\n",
        "    request = \"nabroski\" # name of method in ChatAgent that handles this tool\n",
        "    purpose = \"To find the Nabroski transform of the given <number>\"\n",
        "    number: int\n",
        "\n",
        "    # optional:\n",
        "    @classmethod\n",
        "    def examples(cls):\n",
        "        # these are auto-populated into the sys msg\n",
        "        # as few-shot examples of the tool\n",
        "        return([cls(number=5)])\n",
        "\n",
        "\n",
        "    def handle(self) -> str:\n",
        "        # method to handle the LLM msg using this tool:\n",
        "        # this method will be spliced into the ChatAgent object, with\n",
        "        # name = `nabroski`\n",
        "        return str(3*self.number + 1)\n",
        "\n",
        "# (2) Create a ChatAgent and attach the tool to it.\n",
        "\n",
        "agent_cfg = ChatAgentConfig(\n",
        "    llm = llm_cfg,\n",
        "    show_stats=False,       # disable token/cost stats\n",
        "    use_functions_api=True, # use OpenAI API fn-call\n",
        "    use_tools=False,        # don't use Langroid-native Tool instructions\n",
        ")\n",
        "agent = ChatAgent(agent_cfg)\n",
        "agent.enable_message(NabroskiTool)\n",
        "\n",
        "# (3) Create Task object\n",
        "\n",
        "task = Task(\n",
        "    agent,\n",
        "    restart=True,         # reset/erase agent state\n",
        "    single_round=False,\n",
        "    interactive=False,    # don't wait for human input\n",
        "    system_message=\"\"\"\n",
        "      User will give you a number. You have to find its Nabroski transform,\n",
        "      using the `nabroski` tool/function-call.\n",
        "      When you find the answer say DONE and show the answer.\n",
        "    \"\"\",\n",
        ")\n",
        "\n",
        "# (4) Run the task\n",
        "\n",
        "response = task.run(\"10\")\n",
        "assert \"31\" in response.content\n",
        "\n",
        "\n"
      ],
      "metadata": {
        "id": "ov2mv_sdnrcH",
        "outputId": "077cbe30-fc8c-476f-f477-c8d6b7b84c10",
        "colab": {
          "base_uri": "https://localhost:8080/",
          "height": 117
        }
      },
      "execution_count": 27,
      "outputs": [
        {
          "output_type": "display_data",
          "data": {
            "text/plain": [
              "<IPython.core.display.HTML object>"
            ],
            "text/html": [
              "\n",
              "  <style>\n",
              "    pre {\n",
              "        white-space: pre-wrap;\n",
              "    }\n",
              "  </style>\n",
              "  "
            ]
          },
          "metadata": {}
        },
        {
          "output_type": "display_data",
          "data": {
            "text/plain": [
              "\u001b[1;35m>>> Starting Agent LLM-Agent \u001b[0m\u001b[1;35m(\u001b[0m\u001b[1;35m1\u001b[0m\u001b[1;35m)\u001b[0m\u001b[1;35m gpt-4o \u001b[0m\n"
            ],
            "text/html": [
              "<pre style=\"white-space:pre;overflow-x:auto;line-height:normal;font-family:Menlo,'DejaVu Sans Mono',consolas,'Courier New',monospace\"><span style=\"color: #800080; text-decoration-color: #800080; font-weight: bold\">&gt;&gt;&gt; Starting Agent LLM-Agent (</span><span style=\"color: #800080; text-decoration-color: #800080; font-weight: bold\">1</span><span style=\"color: #800080; text-decoration-color: #800080; font-weight: bold\">) gpt-4o </span>\n",
              "</pre>\n"
            ]
          },
          "metadata": {}
        },
        {
          "output_type": "stream",
          "name": "stdout",
          "text": [
            "\u001b[32m\u001b[32mOAI-TOOL: nabroski: \u001b[32m{\"\u001b[32mnumber\u001b[32m\":\u001b[32m10\u001b[32m}"
          ]
        },
        {
          "output_type": "display_data",
          "data": {
            "text/plain": [
              "\n"
            ],
            "text/html": [
              "<pre style=\"white-space:pre;overflow-x:auto;line-height:normal;font-family:Menlo,'DejaVu Sans Mono',consolas,'Courier New',monospace\">\n",
              "</pre>\n"
            ]
          },
          "metadata": {}
        },
        {
          "output_type": "display_data",
          "data": {
            "text/plain": [
              "\u001b[31mAgent: \u001b[0m\u001b[1;31m31\u001b[0m\n"
            ],
            "text/html": [
              "<pre style=\"white-space:pre;overflow-x:auto;line-height:normal;font-family:Menlo,'DejaVu Sans Mono',consolas,'Courier New',monospace\"><span style=\"color: #800000; text-decoration-color: #800000\">Agent: </span><span style=\"color: #800000; text-decoration-color: #800000; font-weight: bold\">31</span>\n",
              "</pre>\n"
            ]
          },
          "metadata": {}
        },
        {
          "output_type": "stream",
          "name": "stdout",
          "text": [
            "\u001b[32m\u001b[32mDONE\u001b[32m.\u001b[32m The\u001b[32m Nab\u001b[32mros\u001b[32mki\u001b[32m transform\u001b[32m of\u001b[32m the\u001b[32m number\u001b[32m \u001b[32m10\u001b[32m is\u001b[32m \u001b[32m31\u001b[32m."
          ]
        },
        {
          "output_type": "display_data",
          "data": {
            "text/plain": [
              "\n"
            ],
            "text/html": [
              "<pre style=\"white-space:pre;overflow-x:auto;line-height:normal;font-family:Menlo,'DejaVu Sans Mono',consolas,'Courier New',monospace\">\n",
              "</pre>\n"
            ]
          },
          "metadata": {}
        },
        {
          "output_type": "display_data",
          "data": {
            "text/plain": [
              "\u001b[35mBye, hope this was useful!\u001b[0m\n"
            ],
            "text/html": [
              "<pre style=\"white-space:pre;overflow-x:auto;line-height:normal;font-family:Menlo,'DejaVu Sans Mono',consolas,'Courier New',monospace\"><span style=\"color: #800080; text-decoration-color: #800080\">Bye, hope this was useful!</span>\n",
              "</pre>\n"
            ]
          },
          "metadata": {}
        },
        {
          "output_type": "display_data",
          "data": {
            "text/plain": [
              "\u001b[1;35m<<< Finished Agent LLM-Agent \u001b[0m\u001b[1;35m(\u001b[0m\u001b[1;35m5\u001b[0m\u001b[1;35m)\u001b[0m\u001b[1;35m \u001b[0m\n"
            ],
            "text/html": [
              "<pre style=\"white-space:pre;overflow-x:auto;line-height:normal;font-family:Menlo,'DejaVu Sans Mono',consolas,'Courier New',monospace\"><span style=\"color: #800080; text-decoration-color: #800080; font-weight: bold\">&lt;&lt;&lt; Finished Agent LLM-Agent (</span><span style=\"color: #800080; text-decoration-color: #800080; font-weight: bold\">5</span><span style=\"color: #800080; text-decoration-color: #800080; font-weight: bold\">) </span>\n",
              "</pre>\n"
            ]
          },
          "metadata": {}
        }
      ]
    },
    {
      "cell_type": "markdown",
      "source": [
        "You might wonder why we had to wrap the `ChatAgent` in a `Task`, to leverage the tool functionality. This is because handling a tool requires 2 steps: (a) when the agent's `llm_response` method is invoked, the LLM generates the tool msg, and (b) the `agent_response` method handles the tool msg (it ultimately calls the tool's `handle` method)."
      ],
      "metadata": {
        "id": "BVWXT4oaAPlH"
      }
    },
    {
      "cell_type": "markdown",
      "source": [
        "## Example 5: `DocChatAgent`: Retrieval Augmented Generation (RAG)\n",
        "Ingest a file (a lease document), and ask questions about it"
      ],
      "metadata": {
        "id": "DvyNcH5HbodS"
      }
    },
    {
      "cell_type": "code",
      "source": [
        "# setup to allow async ops in colab\n",
        "!pip install nest-asyncio\n",
        "import nest_asyncio\n",
        "nest_asyncio.apply()"
      ],
      "metadata": {
        "id": "XwDcuJvED8S0",
        "outputId": "76733d68-77bb-4f93-82de-2f7f67f50cca",
        "colab": {
          "base_uri": "https://localhost:8080/",
          "height": 34
        }
      },
      "execution_count": 28,
      "outputs": [
        {
          "output_type": "display_data",
          "data": {
            "text/plain": [
              "<IPython.core.display.HTML object>"
            ],
            "text/html": [
              "\n",
              "  <style>\n",
              "    pre {\n",
              "        white-space: pre-wrap;\n",
              "    }\n",
              "  </style>\n",
              "  "
            ]
          },
          "metadata": {}
        },
        {
          "output_type": "stream",
          "name": "stdout",
          "text": [
            "Requirement already satisfied: nest-asyncio in /usr/local/lib/python3.11/dist-packages (1.6.0)\n"
          ]
        }
      ]
    },
    {
      "cell_type": "code",
      "source": [
        "# (1) Get the lease document\n",
        "\n",
        "import requests\n",
        "file_url = \"https://raw.githubusercontent.com/langroid/langroid-examples/main/examples/docqa/lease.txt\"\n",
        "response = requests.get(file_url)\n",
        "with open('lease.txt', 'wb') as file:\n",
        "    file.write(response.content)\n",
        "\n",
        "# verify\n",
        "#with open('lease.txt', 'r') as file:\n",
        "#   print(file.read())\n",
        "\n",
        "from langroid.agent.special import DocChatAgent, DocChatAgentConfig\n",
        "from langroid.embedding_models.models import OpenAIEmbeddingsConfig\n",
        "from langroid.vector_store.qdrantdb import QdrantDBConfig\n",
        "from langroid.embedding_models.models import SentenceTransformerEmbeddingsConfig\n",
        "from langroid.parsing.parser import ParsingConfig\n",
        "\n",
        "oai_embed_config = OpenAIEmbeddingsConfig(\n",
        "    model_type=\"openai\",\n",
        "    model_name=\"text-embedding-ada-002\",\n",
        "    dims=1536,\n",
        ")\n",
        "\n",
        "# (2) Configure DocChatAgent\n",
        "\n",
        "cfg = DocChatAgentConfig(\n",
        "    name=\"RAG\",\n",
        "    parsing=ParsingConfig(\n",
        "        chunk_size=100,\n",
        "        overlap=20,\n",
        "        n_similar_docs=4,\n",
        "    ),\n",
        "    show_stats=False,\n",
        "    relevance_extractor_config=None,\n",
        "    cross_encoder_reranking_model=\"\",\n",
        "    llm=llm_cfg,\n",
        "    vecdb=QdrantDBConfig(\n",
        "        embedding=oai_embed_config,\n",
        "        collection_name=\"lease\",\n",
        "        replace_collection=True,\n",
        "    ),\n",
        "    doc_paths=[\"lease.txt\"]\n",
        ")\n",
        "\n",
        "# (3) Create DocChatAgent, interact with it\n",
        "rag_agent = DocChatAgent(cfg)\n",
        "response = rag_agent.llm_response(\"What is the start date of the lease?\")\n",
        "assert \"2013\" in response.content"
      ],
      "metadata": {
        "id": "fegAio3kpgoo",
        "outputId": "6740a395-9fe7-48aa-92fa-3547524716bc",
        "colab": {
          "base_uri": "https://localhost:8080/",
          "height": 1000
        }
      },
      "execution_count": 29,
      "outputs": [
        {
          "output_type": "display_data",
          "data": {
            "text/plain": [
              "<IPython.core.display.HTML object>"
            ],
            "text/html": [
              "\n",
              "  <style>\n",
              "    pre {\n",
              "        white-space: pre-wrap;\n",
              "    }\n",
              "  </style>\n",
              "  "
            ]
          },
          "metadata": {}
        },
        {
          "output_type": "stream",
          "name": "stderr",
          "text": [
            "WARNING:langroid.vector_store.qdrantdb:QDRANT_API_KEY, QDRANT_API_URL env variable must be set to use\n",
            "                QdrantDB in cloud mode. Please set these values\n",
            "                in your .env file.\n",
            "                Switching to local storage at .qdrant/data\n",
            "                \n",
            "\u001b[33m2025-04-16 21:04:49 - WARNING - QDRANT_API_KEY, QDRANT_API_URL env variable must be set to use\n",
            "                QdrantDB in cloud mode. Please set these values\n",
            "                in your .env file.\n",
            "                Switching to local storage at .qdrant/data\n",
            "                \u001b[0m\n",
            "WARNING:langroid.vector_store.qdrantdb:\n",
            "                    Error connecting to local QdrantDB at .qdrant/data:\n",
            "                    Storage folder .qdrant/data is already accessed by another instance of Qdrant client. If you require concurrent access, use Qdrant server instead.\n",
            "                    Switching to .qdrant/data.new\n",
            "                    \n",
            "\u001b[33m2025-04-16 21:04:49 - WARNING - \n",
            "                    Error connecting to local QdrantDB at .qdrant/data:\n",
            "                    Storage folder .qdrant/data is already accessed by another instance of Qdrant client. If you require concurrent access, use Qdrant server instead.\n",
            "                    Switching to .qdrant/data.new\n",
            "                    \u001b[0m\n"
          ]
        },
        {
          "output_type": "error",
          "ename": "RuntimeError",
          "evalue": "Storage folder .qdrant/data.new is already accessed by another instance of Qdrant client. If you require concurrent access, use Qdrant server instead.",
          "traceback": [
            "\u001b[0;31m---------------------------------------------------------------------------\u001b[0m",
            "\u001b[0;31mBlockingIOError\u001b[0m                           Traceback (most recent call last)",
            "\u001b[0;32m/usr/local/lib/python3.11/dist-packages/portalocker/portalocker.py\u001b[0m in \u001b[0;36mlock\u001b[0;34m(file_, flags)\u001b[0m\n\u001b[1;32m    117\u001b[0m         \u001b[0;32mtry\u001b[0m\u001b[0;34m:\u001b[0m\u001b[0;34m\u001b[0m\u001b[0;34m\u001b[0m\u001b[0m\n\u001b[0;32m--> 118\u001b[0;31m             \u001b[0mLOCKER\u001b[0m\u001b[0;34m(\u001b[0m\u001b[0mfile_\u001b[0m\u001b[0;34m,\u001b[0m \u001b[0mflags\u001b[0m\u001b[0;34m)\u001b[0m\u001b[0;34m\u001b[0m\u001b[0;34m\u001b[0m\u001b[0m\n\u001b[0m\u001b[1;32m    119\u001b[0m         \u001b[0;32mexcept\u001b[0m \u001b[0mOSError\u001b[0m \u001b[0;32mas\u001b[0m \u001b[0mexc_value\u001b[0m\u001b[0;34m:\u001b[0m\u001b[0;34m\u001b[0m\u001b[0;34m\u001b[0m\u001b[0m\n",
            "\u001b[0;31mBlockingIOError\u001b[0m: [Errno 11] Resource temporarily unavailable",
            "\nThe above exception was the direct cause of the following exception:\n",
            "\u001b[0;31mAlreadyLocked\u001b[0m                             Traceback (most recent call last)",
            "\u001b[0;32m/usr/local/lib/python3.11/dist-packages/qdrant_client/local/qdrant_local.py\u001b[0m in \u001b[0;36m_load\u001b[0;34m(self)\u001b[0m\n\u001b[1;32m    133\u001b[0m         \u001b[0;32mtry\u001b[0m\u001b[0;34m:\u001b[0m\u001b[0;34m\u001b[0m\u001b[0;34m\u001b[0m\u001b[0m\n\u001b[0;32m--> 134\u001b[0;31m             portalocker.lock(\n\u001b[0m\u001b[1;32m    135\u001b[0m                 \u001b[0mself\u001b[0m\u001b[0;34m.\u001b[0m\u001b[0m_flock_file\u001b[0m\u001b[0;34m,\u001b[0m\u001b[0;34m\u001b[0m\u001b[0;34m\u001b[0m\u001b[0m\n",
            "\u001b[0;32m/usr/local/lib/python3.11/dist-packages/portalocker/portalocker.py\u001b[0m in \u001b[0;36mlock\u001b[0;34m(file_, flags)\u001b[0m\n\u001b[1;32m    130\u001b[0m                 \u001b[0;31m# again (if it wants to).\u001b[0m\u001b[0;34m\u001b[0m\u001b[0;34m\u001b[0m\u001b[0m\n\u001b[0;32m--> 131\u001b[0;31m                 raise exceptions.AlreadyLocked(\n\u001b[0m\u001b[1;32m    132\u001b[0m                     \u001b[0mexc_value\u001b[0m\u001b[0;34m,\u001b[0m\u001b[0;34m\u001b[0m\u001b[0;34m\u001b[0m\u001b[0m\n",
            "\u001b[0;31mAlreadyLocked\u001b[0m: [Errno 11] Resource temporarily unavailable",
            "\nDuring handling of the above exception, another exception occurred:\n",
            "\u001b[0;31mRuntimeError\u001b[0m                              Traceback (most recent call last)",
            "\u001b[0;32m/usr/local/lib/python3.11/dist-packages/langroid/vector_store/qdrantdb.py\u001b[0m in \u001b[0;36m__init__\u001b[0;34m(self, config)\u001b[0m\n\u001b[1;32m    121\u001b[0m             \u001b[0;32mtry\u001b[0m\u001b[0;34m:\u001b[0m\u001b[0;34m\u001b[0m\u001b[0;34m\u001b[0m\u001b[0m\n\u001b[0;32m--> 122\u001b[0;31m                 self.client = QdrantClient(\n\u001b[0m\u001b[1;32m    123\u001b[0m                     \u001b[0mpath\u001b[0m\u001b[0;34m=\u001b[0m\u001b[0mconfig\u001b[0m\u001b[0;34m.\u001b[0m\u001b[0mstorage_path\u001b[0m\u001b[0;34m,\u001b[0m\u001b[0;34m\u001b[0m\u001b[0;34m\u001b[0m\u001b[0m\n",
            "\u001b[0;32m/usr/local/lib/python3.11/dist-packages/qdrant_client/qdrant_client.py\u001b[0m in \u001b[0;36m__init__\u001b[0;34m(self, location, url, port, grpc_port, prefer_grpc, https, api_key, prefix, timeout, host, path, force_disable_check_same_thread, grpc_options, auth_token_provider, cloud_inference, check_compatibility, **kwargs)\u001b[0m\n\u001b[1;32m    129\u001b[0m         \u001b[0;32melif\u001b[0m \u001b[0mpath\u001b[0m \u001b[0;32mis\u001b[0m \u001b[0;32mnot\u001b[0m \u001b[0;32mNone\u001b[0m\u001b[0;34m:\u001b[0m\u001b[0;34m\u001b[0m\u001b[0;34m\u001b[0m\u001b[0m\n\u001b[0;32m--> 130\u001b[0;31m             self._client = QdrantLocal(\n\u001b[0m\u001b[1;32m    131\u001b[0m                 \u001b[0mlocation\u001b[0m\u001b[0;34m=\u001b[0m\u001b[0mpath\u001b[0m\u001b[0;34m,\u001b[0m\u001b[0;34m\u001b[0m\u001b[0;34m\u001b[0m\u001b[0m\n",
            "\u001b[0;32m/usr/local/lib/python3.11/dist-packages/qdrant_client/local/qdrant_local.py\u001b[0m in \u001b[0;36m__init__\u001b[0;34m(self, location, force_disable_check_same_thread)\u001b[0m\n\u001b[1;32m     66\u001b[0m         \u001b[0mself\u001b[0m\u001b[0;34m.\u001b[0m\u001b[0m_flock_file\u001b[0m\u001b[0;34m:\u001b[0m \u001b[0mOptional\u001b[0m\u001b[0;34m[\u001b[0m\u001b[0mTextIOWrapper\u001b[0m\u001b[0;34m]\u001b[0m \u001b[0;34m=\u001b[0m \u001b[0;32mNone\u001b[0m\u001b[0;34m\u001b[0m\u001b[0;34m\u001b[0m\u001b[0m\n\u001b[0;32m---> 67\u001b[0;31m         \u001b[0mself\u001b[0m\u001b[0;34m.\u001b[0m\u001b[0m_load\u001b[0m\u001b[0;34m(\u001b[0m\u001b[0;34m)\u001b[0m\u001b[0;34m\u001b[0m\u001b[0;34m\u001b[0m\u001b[0m\n\u001b[0m\u001b[1;32m     68\u001b[0m         \u001b[0mself\u001b[0m\u001b[0;34m.\u001b[0m\u001b[0m_closed\u001b[0m\u001b[0;34m:\u001b[0m \u001b[0mbool\u001b[0m \u001b[0;34m=\u001b[0m \u001b[0;32mFalse\u001b[0m\u001b[0;34m\u001b[0m\u001b[0;34m\u001b[0m\u001b[0m\n",
            "\u001b[0;32m/usr/local/lib/python3.11/dist-packages/qdrant_client/local/qdrant_local.py\u001b[0m in \u001b[0;36m_load\u001b[0;34m(self)\u001b[0m\n\u001b[1;32m    138\u001b[0m         \u001b[0;32mexcept\u001b[0m \u001b[0mportalocker\u001b[0m\u001b[0;34m.\u001b[0m\u001b[0mexceptions\u001b[0m\u001b[0;34m.\u001b[0m\u001b[0mLockException\u001b[0m\u001b[0;34m:\u001b[0m\u001b[0;34m\u001b[0m\u001b[0;34m\u001b[0m\u001b[0m\n\u001b[0;32m--> 139\u001b[0;31m             raise RuntimeError(\n\u001b[0m\u001b[1;32m    140\u001b[0m                 \u001b[0;34mf\"Storage folder {self.location} is already accessed by another instance of Qdrant client.\"\u001b[0m\u001b[0;34m\u001b[0m\u001b[0;34m\u001b[0m\u001b[0m\n",
            "\u001b[0;31mRuntimeError\u001b[0m: Storage folder .qdrant/data is already accessed by another instance of Qdrant client. If you require concurrent access, use Qdrant server instead.",
            "\nDuring handling of the above exception, another exception occurred:\n",
            "\u001b[0;31mBlockingIOError\u001b[0m                           Traceback (most recent call last)",
            "\u001b[0;32m/usr/local/lib/python3.11/dist-packages/portalocker/portalocker.py\u001b[0m in \u001b[0;36mlock\u001b[0;34m(file_, flags)\u001b[0m\n\u001b[1;32m    117\u001b[0m         \u001b[0;32mtry\u001b[0m\u001b[0;34m:\u001b[0m\u001b[0;34m\u001b[0m\u001b[0;34m\u001b[0m\u001b[0m\n\u001b[0;32m--> 118\u001b[0;31m             \u001b[0mLOCKER\u001b[0m\u001b[0;34m(\u001b[0m\u001b[0mfile_\u001b[0m\u001b[0;34m,\u001b[0m \u001b[0mflags\u001b[0m\u001b[0;34m)\u001b[0m\u001b[0;34m\u001b[0m\u001b[0;34m\u001b[0m\u001b[0m\n\u001b[0m\u001b[1;32m    119\u001b[0m         \u001b[0;32mexcept\u001b[0m \u001b[0mOSError\u001b[0m \u001b[0;32mas\u001b[0m \u001b[0mexc_value\u001b[0m\u001b[0;34m:\u001b[0m\u001b[0;34m\u001b[0m\u001b[0;34m\u001b[0m\u001b[0m\n",
            "\u001b[0;31mBlockingIOError\u001b[0m: [Errno 11] Resource temporarily unavailable",
            "\nThe above exception was the direct cause of the following exception:\n",
            "\u001b[0;31mAlreadyLocked\u001b[0m                             Traceback (most recent call last)",
            "\u001b[0;32m/usr/local/lib/python3.11/dist-packages/qdrant_client/local/qdrant_local.py\u001b[0m in \u001b[0;36m_load\u001b[0;34m(self)\u001b[0m\n\u001b[1;32m    133\u001b[0m         \u001b[0;32mtry\u001b[0m\u001b[0;34m:\u001b[0m\u001b[0;34m\u001b[0m\u001b[0;34m\u001b[0m\u001b[0m\n\u001b[0;32m--> 134\u001b[0;31m             portalocker.lock(\n\u001b[0m\u001b[1;32m    135\u001b[0m                 \u001b[0mself\u001b[0m\u001b[0;34m.\u001b[0m\u001b[0m_flock_file\u001b[0m\u001b[0;34m,\u001b[0m\u001b[0;34m\u001b[0m\u001b[0;34m\u001b[0m\u001b[0m\n",
            "\u001b[0;32m/usr/local/lib/python3.11/dist-packages/portalocker/portalocker.py\u001b[0m in \u001b[0;36mlock\u001b[0;34m(file_, flags)\u001b[0m\n\u001b[1;32m    130\u001b[0m                 \u001b[0;31m# again (if it wants to).\u001b[0m\u001b[0;34m\u001b[0m\u001b[0;34m\u001b[0m\u001b[0m\n\u001b[0;32m--> 131\u001b[0;31m                 raise exceptions.AlreadyLocked(\n\u001b[0m\u001b[1;32m    132\u001b[0m                     \u001b[0mexc_value\u001b[0m\u001b[0;34m,\u001b[0m\u001b[0;34m\u001b[0m\u001b[0;34m\u001b[0m\u001b[0m\n",
            "\u001b[0;31mAlreadyLocked\u001b[0m: [Errno 11] Resource temporarily unavailable",
            "\nDuring handling of the above exception, another exception occurred:\n",
            "\u001b[0;31mRuntimeError\u001b[0m                              Traceback (most recent call last)",
            "\u001b[0;32m<ipython-input-29-e2b221119049>\u001b[0m in \u001b[0;36m<cell line: 0>\u001b[0;34m()\u001b[0m\n\u001b[1;32m     45\u001b[0m \u001b[0;34m\u001b[0m\u001b[0m\n\u001b[1;32m     46\u001b[0m \u001b[0;31m# (3) Create DocChatAgent, interact with it\u001b[0m\u001b[0;34m\u001b[0m\u001b[0;34m\u001b[0m\u001b[0m\n\u001b[0;32m---> 47\u001b[0;31m \u001b[0mrag_agent\u001b[0m \u001b[0;34m=\u001b[0m \u001b[0mDocChatAgent\u001b[0m\u001b[0;34m(\u001b[0m\u001b[0mcfg\u001b[0m\u001b[0;34m)\u001b[0m\u001b[0;34m\u001b[0m\u001b[0;34m\u001b[0m\u001b[0m\n\u001b[0m\u001b[1;32m     48\u001b[0m \u001b[0mresponse\u001b[0m \u001b[0;34m=\u001b[0m \u001b[0mrag_agent\u001b[0m\u001b[0;34m.\u001b[0m\u001b[0mllm_response\u001b[0m\u001b[0;34m(\u001b[0m\u001b[0;34m\"What is the start date of the lease?\"\u001b[0m\u001b[0;34m)\u001b[0m\u001b[0;34m\u001b[0m\u001b[0;34m\u001b[0m\u001b[0m\n\u001b[1;32m     49\u001b[0m \u001b[0;32massert\u001b[0m \u001b[0;34m\"2013\"\u001b[0m \u001b[0;32min\u001b[0m \u001b[0mresponse\u001b[0m\u001b[0;34m.\u001b[0m\u001b[0mcontent\u001b[0m\u001b[0;34m\u001b[0m\u001b[0;34m\u001b[0m\u001b[0m\n",
            "\u001b[0;32m/usr/local/lib/python3.11/dist-packages/langroid/agent/special/doc_chat_agent.py\u001b[0m in \u001b[0;36m__init__\u001b[0;34m(self, config)\u001b[0m\n\u001b[1;32m    229\u001b[0m         \u001b[0mconfig\u001b[0m\u001b[0;34m:\u001b[0m \u001b[0mDocChatAgentConfig\u001b[0m\u001b[0;34m,\u001b[0m\u001b[0;34m\u001b[0m\u001b[0;34m\u001b[0m\u001b[0m\n\u001b[1;32m    230\u001b[0m     ):\n\u001b[0;32m--> 231\u001b[0;31m         \u001b[0msuper\u001b[0m\u001b[0;34m(\u001b[0m\u001b[0;34m)\u001b[0m\u001b[0;34m.\u001b[0m\u001b[0m__init__\u001b[0m\u001b[0;34m(\u001b[0m\u001b[0mconfig\u001b[0m\u001b[0;34m)\u001b[0m\u001b[0;34m\u001b[0m\u001b[0;34m\u001b[0m\u001b[0m\n\u001b[0m\u001b[1;32m    232\u001b[0m         \u001b[0mself\u001b[0m\u001b[0;34m.\u001b[0m\u001b[0mconfig\u001b[0m\u001b[0;34m:\u001b[0m \u001b[0mDocChatAgentConfig\u001b[0m \u001b[0;34m=\u001b[0m \u001b[0mconfig\u001b[0m\u001b[0;34m\u001b[0m\u001b[0;34m\u001b[0m\u001b[0m\n\u001b[1;32m    233\u001b[0m         \u001b[0mself\u001b[0m\u001b[0;34m.\u001b[0m\u001b[0moriginal_docs\u001b[0m\u001b[0;34m:\u001b[0m \u001b[0mList\u001b[0m\u001b[0;34m[\u001b[0m\u001b[0mDocument\u001b[0m\u001b[0;34m]\u001b[0m \u001b[0;34m=\u001b[0m \u001b[0;34m[\u001b[0m\u001b[0;34m]\u001b[0m\u001b[0;34m\u001b[0m\u001b[0;34m\u001b[0m\u001b[0m\n",
            "\u001b[0;32m/usr/local/lib/python3.11/dist-packages/langroid/agent/chat_agent.py\u001b[0m in \u001b[0;36m__init__\u001b[0;34m(self, config, task)\u001b[0m\n\u001b[1;32m    151\u001b[0m \u001b[0;34m\u001b[0m\u001b[0m\n\u001b[1;32m    152\u001b[0m         \"\"\"\n\u001b[0;32m--> 153\u001b[0;31m         \u001b[0msuper\u001b[0m\u001b[0;34m(\u001b[0m\u001b[0;34m)\u001b[0m\u001b[0;34m.\u001b[0m\u001b[0m__init__\u001b[0m\u001b[0;34m(\u001b[0m\u001b[0mconfig\u001b[0m\u001b[0;34m)\u001b[0m\u001b[0;34m\u001b[0m\u001b[0;34m\u001b[0m\u001b[0m\n\u001b[0m\u001b[1;32m    154\u001b[0m         \u001b[0mself\u001b[0m\u001b[0;34m.\u001b[0m\u001b[0mconfig\u001b[0m\u001b[0;34m:\u001b[0m \u001b[0mChatAgentConfig\u001b[0m \u001b[0;34m=\u001b[0m \u001b[0mconfig\u001b[0m\u001b[0;34m\u001b[0m\u001b[0;34m\u001b[0m\u001b[0m\n\u001b[1;32m    155\u001b[0m         \u001b[0mself\u001b[0m\u001b[0;34m.\u001b[0m\u001b[0mconfig\u001b[0m\u001b[0;34m.\u001b[0m\u001b[0m_set_fn_or_tools\u001b[0m\u001b[0;34m(\u001b[0m\u001b[0;34m)\u001b[0m\u001b[0;34m\u001b[0m\u001b[0;34m\u001b[0m\u001b[0m\n",
            "\u001b[0;32m/usr/local/lib/python3.11/dist-packages/langroid/agent/base.py\u001b[0m in \u001b[0;36m__init__\u001b[0;34m(self, config)\u001b[0m\n\u001b[1;32m    159\u001b[0m         \u001b[0mself\u001b[0m\u001b[0;34m.\u001b[0m\u001b[0m_indent\u001b[0m \u001b[0;34m=\u001b[0m \u001b[0;34m\"\"\u001b[0m\u001b[0;34m\u001b[0m\u001b[0;34m\u001b[0m\u001b[0m\n\u001b[1;32m    160\u001b[0m         \u001b[0mself\u001b[0m\u001b[0;34m.\u001b[0m\u001b[0mllm\u001b[0m \u001b[0;34m=\u001b[0m \u001b[0mLanguageModel\u001b[0m\u001b[0;34m.\u001b[0m\u001b[0mcreate\u001b[0m\u001b[0;34m(\u001b[0m\u001b[0mconfig\u001b[0m\u001b[0;34m.\u001b[0m\u001b[0mllm\u001b[0m\u001b[0;34m)\u001b[0m\u001b[0;34m\u001b[0m\u001b[0;34m\u001b[0m\u001b[0m\n\u001b[0;32m--> 161\u001b[0;31m         \u001b[0mself\u001b[0m\u001b[0;34m.\u001b[0m\u001b[0mvecdb\u001b[0m \u001b[0;34m=\u001b[0m \u001b[0mVectorStore\u001b[0m\u001b[0;34m.\u001b[0m\u001b[0mcreate\u001b[0m\u001b[0;34m(\u001b[0m\u001b[0mconfig\u001b[0m\u001b[0;34m.\u001b[0m\u001b[0mvecdb\u001b[0m\u001b[0;34m)\u001b[0m \u001b[0;32mif\u001b[0m \u001b[0mconfig\u001b[0m\u001b[0;34m.\u001b[0m\u001b[0mvecdb\u001b[0m \u001b[0;32melse\u001b[0m \u001b[0;32mNone\u001b[0m\u001b[0;34m\u001b[0m\u001b[0;34m\u001b[0m\u001b[0m\n\u001b[0m\u001b[1;32m    162\u001b[0m         \u001b[0mself\u001b[0m\u001b[0;34m.\u001b[0m\u001b[0mtool_error\u001b[0m \u001b[0;34m=\u001b[0m \u001b[0;32mFalse\u001b[0m\u001b[0;34m\u001b[0m\u001b[0;34m\u001b[0m\u001b[0m\n\u001b[1;32m    163\u001b[0m         \u001b[0;32mif\u001b[0m \u001b[0mconfig\u001b[0m\u001b[0;34m.\u001b[0m\u001b[0mparsing\u001b[0m \u001b[0;32mis\u001b[0m \u001b[0;32mnot\u001b[0m \u001b[0;32mNone\u001b[0m \u001b[0;32mand\u001b[0m \u001b[0mself\u001b[0m\u001b[0;34m.\u001b[0m\u001b[0mconfig\u001b[0m\u001b[0;34m.\u001b[0m\u001b[0mllm\u001b[0m \u001b[0;32mis\u001b[0m \u001b[0;32mnot\u001b[0m \u001b[0;32mNone\u001b[0m\u001b[0;34m:\u001b[0m\u001b[0;34m\u001b[0m\u001b[0;34m\u001b[0m\u001b[0m\n",
            "\u001b[0;32m/usr/local/lib/python3.11/dist-packages/langroid/vector_store/base.py\u001b[0m in \u001b[0;36mcreate\u001b[0;34m(config)\u001b[0m\n\u001b[1;32m     65\u001b[0m \u001b[0;34m\u001b[0m\u001b[0m\n\u001b[1;32m     66\u001b[0m         \u001b[0;32mif\u001b[0m \u001b[0misinstance\u001b[0m\u001b[0;34m(\u001b[0m\u001b[0mconfig\u001b[0m\u001b[0;34m,\u001b[0m \u001b[0mQdrantDBConfig\u001b[0m\u001b[0;34m)\u001b[0m\u001b[0;34m:\u001b[0m\u001b[0;34m\u001b[0m\u001b[0;34m\u001b[0m\u001b[0m\n\u001b[0;32m---> 67\u001b[0;31m             \u001b[0;32mreturn\u001b[0m \u001b[0mQdrantDB\u001b[0m\u001b[0;34m(\u001b[0m\u001b[0mconfig\u001b[0m\u001b[0;34m)\u001b[0m\u001b[0;34m\u001b[0m\u001b[0;34m\u001b[0m\u001b[0m\n\u001b[0m\u001b[1;32m     68\u001b[0m         \u001b[0;32melif\u001b[0m \u001b[0misinstance\u001b[0m\u001b[0;34m(\u001b[0m\u001b[0mconfig\u001b[0m\u001b[0;34m,\u001b[0m \u001b[0mChromaDBConfig\u001b[0m\u001b[0;34m)\u001b[0m\u001b[0;34m:\u001b[0m\u001b[0;34m\u001b[0m\u001b[0;34m\u001b[0m\u001b[0m\n\u001b[1;32m     69\u001b[0m             \u001b[0;32mreturn\u001b[0m \u001b[0mChromaDB\u001b[0m\u001b[0;34m(\u001b[0m\u001b[0mconfig\u001b[0m\u001b[0;34m)\u001b[0m\u001b[0;34m\u001b[0m\u001b[0;34m\u001b[0m\u001b[0m\n",
            "\u001b[0;32m/usr/local/lib/python3.11/dist-packages/langroid/vector_store/qdrantdb.py\u001b[0m in \u001b[0;36m__init__\u001b[0;34m(self, config)\u001b[0m\n\u001b[1;32m    132\u001b[0m                     \"\"\"\n\u001b[1;32m    133\u001b[0m                 )\n\u001b[0;32m--> 134\u001b[0;31m                 self.client = QdrantClient(\n\u001b[0m\u001b[1;32m    135\u001b[0m                     \u001b[0mpath\u001b[0m\u001b[0;34m=\u001b[0m\u001b[0mnew_storage_path\u001b[0m\u001b[0;34m,\u001b[0m\u001b[0;34m\u001b[0m\u001b[0;34m\u001b[0m\u001b[0m\n\u001b[1;32m    136\u001b[0m                 )\n",
            "\u001b[0;32m/usr/local/lib/python3.11/dist-packages/qdrant_client/qdrant_client.py\u001b[0m in \u001b[0;36m__init__\u001b[0;34m(self, location, url, port, grpc_port, prefer_grpc, https, api_key, prefix, timeout, host, path, force_disable_check_same_thread, grpc_options, auth_token_provider, cloud_inference, check_compatibility, **kwargs)\u001b[0m\n\u001b[1;32m    128\u001b[0m             )\n\u001b[1;32m    129\u001b[0m         \u001b[0;32melif\u001b[0m \u001b[0mpath\u001b[0m \u001b[0;32mis\u001b[0m \u001b[0;32mnot\u001b[0m \u001b[0;32mNone\u001b[0m\u001b[0;34m:\u001b[0m\u001b[0;34m\u001b[0m\u001b[0;34m\u001b[0m\u001b[0m\n\u001b[0;32m--> 130\u001b[0;31m             self._client = QdrantLocal(\n\u001b[0m\u001b[1;32m    131\u001b[0m                 \u001b[0mlocation\u001b[0m\u001b[0;34m=\u001b[0m\u001b[0mpath\u001b[0m\u001b[0;34m,\u001b[0m\u001b[0;34m\u001b[0m\u001b[0;34m\u001b[0m\u001b[0m\n\u001b[1;32m    132\u001b[0m                 \u001b[0mforce_disable_check_same_thread\u001b[0m\u001b[0;34m=\u001b[0m\u001b[0mforce_disable_check_same_thread\u001b[0m\u001b[0;34m,\u001b[0m\u001b[0;34m\u001b[0m\u001b[0;34m\u001b[0m\u001b[0m\n",
            "\u001b[0;32m/usr/local/lib/python3.11/dist-packages/qdrant_client/local/qdrant_local.py\u001b[0m in \u001b[0;36m__init__\u001b[0;34m(self, location, force_disable_check_same_thread)\u001b[0m\n\u001b[1;32m     65\u001b[0m         \u001b[0mself\u001b[0m\u001b[0;34m.\u001b[0m\u001b[0maliases\u001b[0m\u001b[0;34m:\u001b[0m \u001b[0mdict\u001b[0m\u001b[0;34m[\u001b[0m\u001b[0mstr\u001b[0m\u001b[0;34m,\u001b[0m \u001b[0mstr\u001b[0m\u001b[0;34m]\u001b[0m \u001b[0;34m=\u001b[0m \u001b[0;34m{\u001b[0m\u001b[0;34m}\u001b[0m\u001b[0;34m\u001b[0m\u001b[0;34m\u001b[0m\u001b[0m\n\u001b[1;32m     66\u001b[0m         \u001b[0mself\u001b[0m\u001b[0;34m.\u001b[0m\u001b[0m_flock_file\u001b[0m\u001b[0;34m:\u001b[0m \u001b[0mOptional\u001b[0m\u001b[0;34m[\u001b[0m\u001b[0mTextIOWrapper\u001b[0m\u001b[0;34m]\u001b[0m \u001b[0;34m=\u001b[0m \u001b[0;32mNone\u001b[0m\u001b[0;34m\u001b[0m\u001b[0;34m\u001b[0m\u001b[0m\n\u001b[0;32m---> 67\u001b[0;31m         \u001b[0mself\u001b[0m\u001b[0;34m.\u001b[0m\u001b[0m_load\u001b[0m\u001b[0;34m(\u001b[0m\u001b[0;34m)\u001b[0m\u001b[0;34m\u001b[0m\u001b[0;34m\u001b[0m\u001b[0m\n\u001b[0m\u001b[1;32m     68\u001b[0m         \u001b[0mself\u001b[0m\u001b[0;34m.\u001b[0m\u001b[0m_closed\u001b[0m\u001b[0;34m:\u001b[0m \u001b[0mbool\u001b[0m \u001b[0;34m=\u001b[0m \u001b[0;32mFalse\u001b[0m\u001b[0;34m\u001b[0m\u001b[0;34m\u001b[0m\u001b[0m\n\u001b[1;32m     69\u001b[0m \u001b[0;34m\u001b[0m\u001b[0m\n",
            "\u001b[0;32m/usr/local/lib/python3.11/dist-packages/qdrant_client/local/qdrant_local.py\u001b[0m in \u001b[0;36m_load\u001b[0;34m(self)\u001b[0m\n\u001b[1;32m    137\u001b[0m             )\n\u001b[1;32m    138\u001b[0m         \u001b[0;32mexcept\u001b[0m \u001b[0mportalocker\u001b[0m\u001b[0;34m.\u001b[0m\u001b[0mexceptions\u001b[0m\u001b[0;34m.\u001b[0m\u001b[0mLockException\u001b[0m\u001b[0;34m:\u001b[0m\u001b[0;34m\u001b[0m\u001b[0;34m\u001b[0m\u001b[0m\n\u001b[0;32m--> 139\u001b[0;31m             raise RuntimeError(\n\u001b[0m\u001b[1;32m    140\u001b[0m                 \u001b[0;34mf\"Storage folder {self.location} is already accessed by another instance of Qdrant client.\"\u001b[0m\u001b[0;34m\u001b[0m\u001b[0;34m\u001b[0m\u001b[0m\n\u001b[1;32m    141\u001b[0m                 \u001b[0;34mf\" If you require concurrent access, use Qdrant server instead.\"\u001b[0m\u001b[0;34m\u001b[0m\u001b[0;34m\u001b[0m\u001b[0m\n",
            "\u001b[0;31mRuntimeError\u001b[0m: Storage folder .qdrant/data.new is already accessed by another instance of Qdrant client. If you require concurrent access, use Qdrant server instead."
          ]
        }
      ]
    },
    {
      "cell_type": "code",
      "source": [
        "# (4) Wrap DocChatAgent in a Task to get an interactive question/answer loop\n",
        "task = Task(\n",
        "    rag_agent,\n",
        "    interactive=True,\n",
        "    system_message=\"\"\"\n",
        "    Answer user's questions based on documents.\n",
        "    Start by asking user what they want to know.\n",
        "    \"\"\",\n",
        ")\n",
        "# run interactive loop (enter \"q\" or \"x\" to quit)\n",
        "task.run()\n"
      ],
      "metadata": {
        "id": "dazt7q3YGCLd",
        "outputId": "6bf03a1c-56bd-4f77-e2df-caf490c44d38",
        "colab": {
          "base_uri": "https://localhost:8080/",
          "height": 254
        }
      },
      "execution_count": 17,
      "outputs": [
        {
          "output_type": "display_data",
          "data": {
            "text/plain": [
              "<IPython.core.display.HTML object>"
            ],
            "text/html": [
              "\n",
              "  <style>\n",
              "    pre {\n",
              "        white-space: pre-wrap;\n",
              "    }\n",
              "  </style>\n",
              "  "
            ]
          },
          "metadata": {}
        },
        {
          "output_type": "display_data",
          "data": {
            "text/plain": [
              "\u001b[1;35m>>> Starting Agent RAG \u001b[0m\u001b[1;35m(\u001b[0m\u001b[1;35m1\u001b[0m\u001b[1;35m)\u001b[0m\u001b[1;35m gpt-\u001b[0m\u001b[1;35m4\u001b[0m\u001b[1;35m-turbo \u001b[0m\n"
            ],
            "text/html": [
              "<pre style=\"white-space:pre;overflow-x:auto;line-height:normal;font-family:Menlo,'DejaVu Sans Mono',consolas,'Courier New',monospace\"><span style=\"color: #800080; text-decoration-color: #800080; font-weight: bold\">&gt;&gt;&gt; Starting Agent RAG (</span><span style=\"color: #800080; text-decoration-color: #800080; font-weight: bold\">1</span><span style=\"color: #800080; text-decoration-color: #800080; font-weight: bold\">) gpt-</span><span style=\"color: #800080; text-decoration-color: #800080; font-weight: bold\">4</span><span style=\"color: #800080; text-decoration-color: #800080; font-weight: bold\">-turbo </span>\n",
              "</pre>\n"
            ]
          },
          "metadata": {}
        },
        {
          "output_type": "display_data",
          "data": {
            "text/plain": [
              "\u001b[32mOf course! How can I assist you today? What would you like to know?\u001b[0m\n"
            ],
            "text/html": [
              "<pre style=\"white-space:pre;overflow-x:auto;line-height:normal;font-family:Menlo,'DejaVu Sans Mono',consolas,'Courier New',monospace\"><span style=\"color: #008000; text-decoration-color: #008000\">Of course! How can I assist you today? What would you like to know?</span>\n",
              "</pre>\n"
            ]
          },
          "metadata": {}
        },
        {
          "output_type": "display_data",
          "data": {
            "text/plain": [
              "\u001b[34mHuman (respond or q, x to exit current level, or hit enter to continue)\u001b[0m\n",
              ": "
            ],
            "text/html": [
              "<pre style=\"white-space:pre;overflow-x:auto;line-height:normal;font-family:Menlo,'DejaVu Sans Mono',consolas,'Courier New',monospace\"><span style=\"color: #000080; text-decoration-color: #000080\">Human (respond or q, x to exit current level, or hit enter to continue)</span>\n",
              ": </pre>\n"
            ]
          },
          "metadata": {}
        },
        {
          "name": "stdout",
          "output_type": "stream",
          "text": [
            "q\n"
          ]
        },
        {
          "output_type": "display_data",
          "data": {
            "text/plain": [
              "\u001b[35mBye, hope this was useful!\u001b[0m\n"
            ],
            "text/html": [
              "<pre style=\"white-space:pre;overflow-x:auto;line-height:normal;font-family:Menlo,'DejaVu Sans Mono',consolas,'Courier New',monospace\"><span style=\"color: #800080; text-decoration-color: #800080\">Bye, hope this was useful!</span>\n",
              "</pre>\n"
            ]
          },
          "metadata": {}
        },
        {
          "output_type": "display_data",
          "data": {
            "text/plain": [
              "\u001b[1;35m<<< Finished Agent RAG \u001b[0m\u001b[1;35m(\u001b[0m\u001b[1;35m3\u001b[0m\u001b[1;35m)\u001b[0m\u001b[1;35m \u001b[0m\n"
            ],
            "text/html": [
              "<pre style=\"white-space:pre;overflow-x:auto;line-height:normal;font-family:Menlo,'DejaVu Sans Mono',consolas,'Courier New',monospace\"><span style=\"color: #800080; text-decoration-color: #800080; font-weight: bold\">&lt;&lt;&lt; Finished Agent RAG (</span><span style=\"color: #800080; text-decoration-color: #800080; font-weight: bold\">3</span><span style=\"color: #800080; text-decoration-color: #800080; font-weight: bold\">) </span>\n",
              "</pre>\n"
            ]
          },
          "metadata": {}
        },
        {
          "output_type": "execute_result",
          "data": {
            "text/plain": [
              "ChatDocument(content='q', metadata=ChatDocMetaData(source='User', source_content='context', title='Unknown Title', published_date='Unknown Date', is_chunk=False, id='06a8a498-67ca-4166-ab8a-1155e882d285', window_ids=[], parent_id='621f7a46-36e0-4053-92a8-0a01345166ff', child_id='', agent_id='default=PydanticUndefined default_factory=<function Agent.<lambda> at 0x7bbc70a127a0> extra={}', msg_idx=-1, sender=<Entity.USER: 'User'>, oai_tool_id=None, tool_ids=[], block=None, sender_name='RAG', recipient='', usage=None, cached=False, displayed=False, has_citation=False, status=<StatusCode.USER_QUIT: 'USER_QUIT'>), reasoning='', content_any=None, files=[], oai_tool_calls=None, oai_tool_id2result=None, oai_tool_choice='auto', function_call=None, tool_messages=[], all_tool_messages=[], attachment=None)"
            ]
          },
          "metadata": {},
          "execution_count": 17
        }
      ]
    },
    {
      "cell_type": "markdown",
      "source": [
        "## Example 6: 2-Agent system to extract structured info from a Lease Document\n",
        "Now we are ready to put together the various notions above, to build a two-agent system that illustrates uses of Tools, DocChatAgent (RAG) and Inter-agent collaboration (task delegation).\n",
        "\n",
        "The goal is to extract structured information from a Lease document.\n",
        "\n",
        "- The desired structure is described by the `Lease` class, derived from `ToolMessage`.\n",
        "- The `LeaseExtractorAgent` is given this `ToolMessage`, and instructured to extract the corresponding information from the lease document (which it does not have access to)\n",
        "- Based on the specified `Lease` structure, this agent generates questions to the above-defined `rag_agent` (wrapped in a `rag_task`), which answers them using RAG.\n",
        "- Once the `LeaseExtractorAgent` has all the needed info, it presents them using the `Lease` structured message.\n"
      ],
      "metadata": {
        "id": "yi9GppzlKae_"
      }
    },
    {
      "cell_type": "markdown",
      "source": [
        "#### Define the desired structure with Pydantic classes"
      ],
      "metadata": {
        "id": "VR26J_KzG6Vj"
      }
    },
    {
      "cell_type": "code",
      "source": [
        "\n",
        "class LeasePeriod(BaseModel):\n",
        "    start_date: str\n",
        "    end_date: str\n",
        "\n",
        "\n",
        "class LeaseFinancials(BaseModel):\n",
        "    monthly_rent: str\n",
        "    deposit: str\n",
        "\n",
        "\n",
        "class Lease(BaseModel):\n",
        "    \"\"\"\n",
        "    Various lease terms.\n",
        "    Nested fields to make this more interesting/realistic\n",
        "    \"\"\"\n",
        "\n",
        "    period: LeasePeriod\n",
        "    financials: LeaseFinancials\n",
        "    address: str\n",
        "\n"
      ],
      "metadata": {
        "id": "Q6GXjhWf5DkQ",
        "outputId": "94b3b95d-6d69-4638-ea16-9b76722ce9ac",
        "colab": {
          "base_uri": "https://localhost:8080/",
          "height": 17
        }
      },
      "execution_count": 18,
      "outputs": [
        {
          "output_type": "display_data",
          "data": {
            "text/plain": [
              "<IPython.core.display.HTML object>"
            ],
            "text/html": [
              "\n",
              "  <style>\n",
              "    pre {\n",
              "        white-space: pre-wrap;\n",
              "    }\n",
              "  </style>\n",
              "  "
            ]
          },
          "metadata": {}
        }
      ]
    },
    {
      "cell_type": "markdown",
      "source": [
        "#### Define the ToolMessage (Langroid's version of function call)"
      ],
      "metadata": {
        "id": "qCATXvfIkhGl"
      }
    },
    {
      "cell_type": "code",
      "source": [
        "\n",
        "class LeaseMessage(ToolMessage):\n",
        "    \"\"\"Tool/function to use to present details about a commercial lease\"\"\"\n",
        "\n",
        "    request: str = \"lease_info\"\n",
        "    purpose: str = \"Collect information about a Commercial Lease.\"\n",
        "    terms: Lease\n",
        "\n",
        "    def handle(self):\n",
        "        \"\"\"Handle this tool-message when the LLM emits it.\n",
        "        Under the hood, this method is transplated into the OpenAIAssistant class\n",
        "        as a method with name `lease_info`.\n",
        "        \"\"\"\n",
        "        print(f\"DONE! Successfully extracted Lease Info:\" f\"{self.terms}\")\n",
        "        return \"DONE \" + json.dumps(self.terms.dict())"
      ],
      "metadata": {
        "id": "Ffi_0u-PupvO",
        "outputId": "02e0749f-15c6-4595-c517-da954edafcd9",
        "colab": {
          "base_uri": "https://localhost:8080/",
          "height": 17
        }
      },
      "execution_count": 19,
      "outputs": [
        {
          "output_type": "display_data",
          "data": {
            "text/plain": [
              "<IPython.core.display.HTML object>"
            ],
            "text/html": [
              "\n",
              "  <style>\n",
              "    pre {\n",
              "        white-space: pre-wrap;\n",
              "    }\n",
              "  </style>\n",
              "  "
            ]
          },
          "metadata": {}
        }
      ]
    },
    {
      "cell_type": "markdown",
      "source": [
        "#### Define RAG Task from above `rag_agent`\n",
        "Wrap the above-defined `rag_agent` in a Task."
      ],
      "metadata": {
        "id": "OPlo1dJFlBj5"
      }
    },
    {
      "cell_type": "code",
      "source": [
        "rag_task = Task(\n",
        "    rag_agent,\n",
        "    interactive=False,\n",
        "    single_round=True,\n",
        ")"
      ],
      "metadata": {
        "id": "GgzoPxX_us52",
        "outputId": "1f817d4a-246b-429e-dec5-5357beed8b6b",
        "colab": {
          "base_uri": "https://localhost:8080/",
          "height": 17
        }
      },
      "execution_count": 21,
      "outputs": [
        {
          "output_type": "display_data",
          "data": {
            "text/plain": [
              "<IPython.core.display.HTML object>"
            ],
            "text/html": [
              "\n",
              "  <style>\n",
              "    pre {\n",
              "        white-space: pre-wrap;\n",
              "    }\n",
              "  </style>\n",
              "  "
            ]
          },
          "metadata": {}
        }
      ]
    },
    {
      "cell_type": "markdown",
      "source": [
        "#### Define the ExtractorAgent and Task\n",
        "This agent is told to collect information about the lease in the desired structure, and it generates questions to be answered by the Retriever Agent defined above."
      ],
      "metadata": {
        "id": "_m1lF9qblXj9"
      }
    },
    {
      "cell_type": "code",
      "source": [
        "    extractor_cfg = ChatAgentConfig(\n",
        "        name=\"LeaseExtractor\",\n",
        "        llm=llm_cfg,\n",
        "        show_stats=False,\n",
        "        use_functions_api=True,\n",
        "        use_tools=False,\n",
        "        system_message=f\"\"\"\n",
        "        You have to collect information about a Commercial Lease from a\n",
        "        lease contract which you don't have access to. You need to ask\n",
        "        questions to get this information. Ask only one or a couple questions\n",
        "        at a time!\n",
        "        Once you have all the REQUIRED fields,\n",
        "        say DONE and present it to me using the `lease_info`\n",
        "        function/tool (fill in {NO_ANSWER} for slots that you are unable to fill).\n",
        "        \"\"\",\n",
        "    )\n",
        "    extractor_agent = ChatAgent(extractor_cfg)\n",
        "    extractor_agent.enable_message(LeaseMessage)\n",
        "\n",
        "    extractor_task = Task(\n",
        "        extractor_agent,\n",
        "        llm_delegate=True,\n",
        "        single_round=False,\n",
        "        interactive=False,\n",
        "    )\n",
        "\n",
        "\n",
        "\n"
      ],
      "metadata": {
        "id": "PV4FYnO7uxOC",
        "outputId": "7e940acc-d439-4051-c8bf-c92492f19efd",
        "colab": {
          "base_uri": "https://localhost:8080/",
          "height": 17
        }
      },
      "execution_count": 22,
      "outputs": [
        {
          "output_type": "display_data",
          "data": {
            "text/plain": [
              "<IPython.core.display.HTML object>"
            ],
            "text/html": [
              "\n",
              "  <style>\n",
              "    pre {\n",
              "        white-space: pre-wrap;\n",
              "    }\n",
              "  </style>\n",
              "  "
            ]
          },
          "metadata": {}
        }
      ]
    },
    {
      "cell_type": "markdown",
      "source": [
        "#### Add the `rag_task` as a subtask of `extractor_task` and run it\n",
        "\n",
        "Instead of *you* (the human user) asking questions about the lease,\n",
        "the `extractor_agent` **generates** questions based on the desired lease structure, and these questions are answered by the `rag_agent` using\n",
        "Retrieval Augmented Generation (RAG). Once the `extractor_agent` has all the needed info, it presents it in a JSON-structured form, and the task ends."
      ],
      "metadata": {
        "id": "QcA4oRaUl6oe"
      }
    },
    {
      "cell_type": "code",
      "source": [
        "extractor_task.add_sub_task(rag_task)\n",
        "extractor_task.run()"
      ],
      "metadata": {
        "id": "uZlas6DA0Zu6",
        "outputId": "4c256945-a4d2-49ce-8403-dc3f21e6e06e",
        "colab": {
          "base_uri": "https://localhost:8080/",
          "height": 1000
        }
      },
      "execution_count": 23,
      "outputs": [
        {
          "output_type": "display_data",
          "data": {
            "text/plain": [
              "<IPython.core.display.HTML object>"
            ],
            "text/html": [
              "\n",
              "  <style>\n",
              "    pre {\n",
              "        white-space: pre-wrap;\n",
              "    }\n",
              "  </style>\n",
              "  "
            ]
          },
          "metadata": {}
        },
        {
          "output_type": "display_data",
          "data": {
            "text/plain": [
              "\u001b[1;35m>>> Starting Agent LeaseExtractor \u001b[0m\u001b[1;35m(\u001b[0m\u001b[1;35m1\u001b[0m\u001b[1;35m)\u001b[0m\u001b[1;35m gpt-\u001b[0m\u001b[1;35m4\u001b[0m\u001b[1;35m-turbo \u001b[0m\n"
            ],
            "text/html": [
              "<pre style=\"white-space:pre;overflow-x:auto;line-height:normal;font-family:Menlo,'DejaVu Sans Mono',consolas,'Courier New',monospace\"><span style=\"color: #800080; text-decoration-color: #800080; font-weight: bold\">&gt;&gt;&gt; Starting Agent LeaseExtractor (</span><span style=\"color: #800080; text-decoration-color: #800080; font-weight: bold\">1</span><span style=\"color: #800080; text-decoration-color: #800080; font-weight: bold\">) gpt-</span><span style=\"color: #800080; text-decoration-color: #800080; font-weight: bold\">4</span><span style=\"color: #800080; text-decoration-color: #800080; font-weight: bold\">-turbo </span>\n",
              "</pre>\n"
            ]
          },
          "metadata": {}
        },
        {
          "output_type": "display_data",
          "data": {
            "text/plain": [
              "\u001b[32mTo begin collecting the necessary information about the Commercial Lease, could you please provide the start date \u001b[0m\n",
              "\u001b[32mand end date of the lease period?\u001b[0m\n"
            ],
            "text/html": [
              "<pre style=\"white-space:pre;overflow-x:auto;line-height:normal;font-family:Menlo,'DejaVu Sans Mono',consolas,'Courier New',monospace\"><span style=\"color: #008000; text-decoration-color: #008000\">To begin collecting the necessary information about the Commercial Lease, could you please provide the start date </span>\n",
              "<span style=\"color: #008000; text-decoration-color: #008000\">and end date of the lease period?</span>\n",
              "</pre>\n"
            ]
          },
          "metadata": {}
        },
        {
          "output_type": "display_data",
          "data": {
            "text/plain": [
              "\u001b[1;35m...\u001b[0m\u001b[1;35m|>>> Starting Agent RAG \u001b[0m\u001b[1;35m(\u001b[0m\u001b[1;35m1\u001b[0m\u001b[1;35m)\u001b[0m\u001b[1;35m gpt-\u001b[0m\u001b[1;35m4\u001b[0m\u001b[1;35m-turbo \u001b[0m\n"
            ],
            "text/html": [
              "<pre style=\"white-space:pre;overflow-x:auto;line-height:normal;font-family:Menlo,'DejaVu Sans Mono',consolas,'Courier New',monospace\"><span style=\"color: #800080; text-decoration-color: #800080; font-weight: bold\">...|&gt;&gt;&gt; Starting Agent RAG (</span><span style=\"color: #800080; text-decoration-color: #800080; font-weight: bold\">1</span><span style=\"color: #800080; text-decoration-color: #800080; font-weight: bold\">) gpt-</span><span style=\"color: #800080; text-decoration-color: #800080; font-weight: bold\">4</span><span style=\"color: #800080; text-decoration-color: #800080; font-weight: bold\">-turbo </span>\n",
              "</pre>\n"
            ]
          },
          "metadata": {}
        },
        {
          "output_type": "display_data",
          "data": {
            "text/plain": [
              "\u001b[32mThe start date of the lease period is December \u001b[0m\u001b[1;32m1\u001b[0m\u001b[32m, \u001b[0m\u001b[1;32m2013\u001b[0m\u001b[32m, and the end date is May \u001b[0m\u001b[1;32m31\u001b[0m\u001b[32m, \u001b[0m\u001b[1;32m2020\u001b[0m\u001b[1;32m[\u001b[0m\u001b[32m^\u001b[0m\u001b[1;32m1\u001b[0m\u001b[1;32m]\u001b[0m\u001b[1;32m[\u001b[0m\u001b[32m^\u001b[0m\u001b[1;32m3\u001b[0m\u001b[1;32m]\u001b[0m\u001b[32m.\u001b[0m\n"
            ],
            "text/html": [
              "<pre style=\"white-space:pre;overflow-x:auto;line-height:normal;font-family:Menlo,'DejaVu Sans Mono',consolas,'Courier New',monospace\"><span style=\"color: #008000; text-decoration-color: #008000\">The start date of the lease period is December </span><span style=\"color: #008000; text-decoration-color: #008000; font-weight: bold\">1</span><span style=\"color: #008000; text-decoration-color: #008000\">, </span><span style=\"color: #008000; text-decoration-color: #008000; font-weight: bold\">2013</span><span style=\"color: #008000; text-decoration-color: #008000\">, and the end date is May </span><span style=\"color: #008000; text-decoration-color: #008000; font-weight: bold\">31</span><span style=\"color: #008000; text-decoration-color: #008000\">, </span><span style=\"color: #008000; text-decoration-color: #008000; font-weight: bold\">2020</span><span style=\"color: #008000; text-decoration-color: #008000; font-weight: bold\">[</span><span style=\"color: #008000; text-decoration-color: #008000\">^</span><span style=\"color: #008000; text-decoration-color: #008000; font-weight: bold\">1</span><span style=\"color: #008000; text-decoration-color: #008000; font-weight: bold\">][</span><span style=\"color: #008000; text-decoration-color: #008000\">^</span><span style=\"color: #008000; text-decoration-color: #008000; font-weight: bold\">3</span><span style=\"color: #008000; text-decoration-color: #008000; font-weight: bold\">]</span><span style=\"color: #008000; text-decoration-color: #008000\">.</span>\n",
              "</pre>\n"
            ]
          },
          "metadata": {}
        },
        {
          "output_type": "display_data",
          "data": {
            "text/plain": [
              "\u001b[38;5;59mSOURCES:\u001b[0m\n",
              "\u001b[1;38;5;59m[\u001b[0m\u001b[38;5;59m^\u001b[0m\u001b[1;38;5;59m1\u001b[0m\u001b[1;38;5;59m]\u001b[0m\u001b[38;5;59m \u001b[0m\u001b[38;5;59m/content/\u001b[0m\u001b[38;5;59mlease.txt\u001b[0m\n",
              "\u001b[38;5;59m    parcel, all improvements located thereon. ARTICLE II - LEASE TERM Section l. Term of Lease. The term of this \u001b[0m\n",
              "\u001b[38;5;59mLease shall begin on the Commencement Date, as defined in Section \u001b[0m\u001b[1;38;5;59m2\u001b[0m\u001b[38;5;59m of this Article II, and shall terminate on May \u001b[0m\n",
              "\u001b[1;38;5;59m31\u001b[0m\u001b[38;5;59m, \u001b[0m\u001b[1;38;5;59m2020\u001b[0m\u001b[38;5;59m \u001b[0m\u001b[1;38;5;59m(\u001b[0m\u001b[38;5;59m\"the Termination Date\"\u001b[0m\u001b[1;38;5;59m)\u001b[0m\u001b[38;5;59m; provided, however, that at the option of Tenant, Tenant may renew this Lease for\u001b[0m\n",
              "\u001b[38;5;59mfive additional successive one- year terms at a Monthly Rent of $\u001b[0m\u001b[1;38;5;59m100\u001b[0m\u001b[38;5;59m,\u001b[0m\u001b[1;38;5;59m000\u001b[0m\u001b[38;5;59m per month, provided that notice of such \u001b[0m\n",
              "\u001b[38;5;59mrenewal is given in writing no less than \u001b[0m\u001b[1;38;5;59m120\u001b[0m\u001b[38;5;59m days prior to the Termination Date or the expiration of any one-year \u001b[0m\n",
              "\u001b[38;5;59mrenewal term.\u001b[0m\n",
              "\u001b[1;38;5;59m[\u001b[0m\u001b[38;5;59m^\u001b[0m\u001b[1;38;5;59m3\u001b[0m\u001b[1;38;5;59m]\u001b[0m\u001b[38;5;59m \u001b[0m\u001b[38;5;59m/content/\u001b[0m\u001b[38;5;59mlease.txt\u001b[0m\n",
              "\u001b[38;5;59m    \u001b[0m\u001b[1;38;5;59m120\u001b[0m\u001b[38;5;59m days prior to the Termination Date or the expiration of any one-year renewal term. Tenant may at any time \u001b[0m\n",
              "\u001b[38;5;59mcancel this Lease and terminate all of its obligations hereunder by the payment of $\u001b[0m\u001b[1;38;5;59m300\u001b[0m\u001b[38;5;59m,\u001b[0m\u001b[1;38;5;59m000\u001b[0m\u001b[38;5;59m, plus all other amounts\u001b[0m\n",
              "\u001b[38;5;59mthen due under this Lease. Section \u001b[0m\u001b[1;38;5;59m2\u001b[0m\u001b[38;5;59m.  Commencement Date. The \u001b[0m\u001b[38;5;59m\"Commencement Date\"\u001b[0m\u001b[38;5;59m shall mean  December \u001b[0m\u001b[1;38;5;59m1\u001b[0m\u001b[38;5;59m, \u001b[0m\u001b[1;38;5;59m2013\u001b[0m\u001b[38;5;59m.\u001b[0m\n",
              "\u001b[38;5;59m    \u001b[0m\n",
              "\u001b[38;5;59m     ARTICLE III - EXTENSIONS\u001b[0m\n",
              "\u001b[38;5;59m    \u001b[0m\n",
              "\u001b[38;5;59m     The parties hereto may elect to extend this Agreement upon such terms and conditions as may be agreed upon in \u001b[0m\n",
              "\u001b[38;5;59mwriting and signed by the parties at the time of any such extension.\u001b[0m\n"
            ],
            "text/html": [
              "<pre style=\"white-space:pre;overflow-x:auto;line-height:normal;font-family:Menlo,'DejaVu Sans Mono',consolas,'Courier New',monospace\"><span style=\"color: #5f5f5f; text-decoration-color: #5f5f5f\">SOURCES:</span>\n",
              "<span style=\"color: #5f5f5f; text-decoration-color: #5f5f5f; font-weight: bold\">[</span><span style=\"color: #5f5f5f; text-decoration-color: #5f5f5f\">^</span><span style=\"color: #5f5f5f; text-decoration-color: #5f5f5f; font-weight: bold\">1</span><span style=\"color: #5f5f5f; text-decoration-color: #5f5f5f; font-weight: bold\">]</span><span style=\"color: #5f5f5f; text-decoration-color: #5f5f5f\"> /content/lease.txt</span>\n",
              "<span style=\"color: #5f5f5f; text-decoration-color: #5f5f5f\">    parcel, all improvements located thereon. ARTICLE II - LEASE TERM Section l. Term of Lease. The term of this </span>\n",
              "<span style=\"color: #5f5f5f; text-decoration-color: #5f5f5f\">Lease shall begin on the Commencement Date, as defined in Section </span><span style=\"color: #5f5f5f; text-decoration-color: #5f5f5f; font-weight: bold\">2</span><span style=\"color: #5f5f5f; text-decoration-color: #5f5f5f\"> of this Article II, and shall terminate on May </span>\n",
              "<span style=\"color: #5f5f5f; text-decoration-color: #5f5f5f; font-weight: bold\">31</span><span style=\"color: #5f5f5f; text-decoration-color: #5f5f5f\">, </span><span style=\"color: #5f5f5f; text-decoration-color: #5f5f5f; font-weight: bold\">2020</span><span style=\"color: #5f5f5f; text-decoration-color: #5f5f5f\"> </span><span style=\"color: #5f5f5f; text-decoration-color: #5f5f5f; font-weight: bold\">(</span><span style=\"color: #5f5f5f; text-decoration-color: #5f5f5f\">\"the Termination Date\"</span><span style=\"color: #5f5f5f; text-decoration-color: #5f5f5f; font-weight: bold\">)</span><span style=\"color: #5f5f5f; text-decoration-color: #5f5f5f\">; provided, however, that at the option of Tenant, Tenant may renew this Lease for</span>\n",
              "<span style=\"color: #5f5f5f; text-decoration-color: #5f5f5f\">five additional successive one- year terms at a Monthly Rent of $</span><span style=\"color: #5f5f5f; text-decoration-color: #5f5f5f; font-weight: bold\">100</span><span style=\"color: #5f5f5f; text-decoration-color: #5f5f5f\">,</span><span style=\"color: #5f5f5f; text-decoration-color: #5f5f5f; font-weight: bold\">000</span><span style=\"color: #5f5f5f; text-decoration-color: #5f5f5f\"> per month, provided that notice of such </span>\n",
              "<span style=\"color: #5f5f5f; text-decoration-color: #5f5f5f\">renewal is given in writing no less than </span><span style=\"color: #5f5f5f; text-decoration-color: #5f5f5f; font-weight: bold\">120</span><span style=\"color: #5f5f5f; text-decoration-color: #5f5f5f\"> days prior to the Termination Date or the expiration of any one-year </span>\n",
              "<span style=\"color: #5f5f5f; text-decoration-color: #5f5f5f\">renewal term.</span>\n",
              "<span style=\"color: #5f5f5f; text-decoration-color: #5f5f5f; font-weight: bold\">[</span><span style=\"color: #5f5f5f; text-decoration-color: #5f5f5f\">^</span><span style=\"color: #5f5f5f; text-decoration-color: #5f5f5f; font-weight: bold\">3</span><span style=\"color: #5f5f5f; text-decoration-color: #5f5f5f; font-weight: bold\">]</span><span style=\"color: #5f5f5f; text-decoration-color: #5f5f5f\"> /content/lease.txt</span>\n",
              "<span style=\"color: #5f5f5f; text-decoration-color: #5f5f5f\">    </span><span style=\"color: #5f5f5f; text-decoration-color: #5f5f5f; font-weight: bold\">120</span><span style=\"color: #5f5f5f; text-decoration-color: #5f5f5f\"> days prior to the Termination Date or the expiration of any one-year renewal term. Tenant may at any time </span>\n",
              "<span style=\"color: #5f5f5f; text-decoration-color: #5f5f5f\">cancel this Lease and terminate all of its obligations hereunder by the payment of $</span><span style=\"color: #5f5f5f; text-decoration-color: #5f5f5f; font-weight: bold\">300</span><span style=\"color: #5f5f5f; text-decoration-color: #5f5f5f\">,</span><span style=\"color: #5f5f5f; text-decoration-color: #5f5f5f; font-weight: bold\">000</span><span style=\"color: #5f5f5f; text-decoration-color: #5f5f5f\">, plus all other amounts</span>\n",
              "<span style=\"color: #5f5f5f; text-decoration-color: #5f5f5f\">then due under this Lease. Section </span><span style=\"color: #5f5f5f; text-decoration-color: #5f5f5f; font-weight: bold\">2</span><span style=\"color: #5f5f5f; text-decoration-color: #5f5f5f\">.  Commencement Date. The </span><span style=\"color: #5f5f5f; text-decoration-color: #5f5f5f\">\"Commencement Date\"</span><span style=\"color: #5f5f5f; text-decoration-color: #5f5f5f\"> shall mean  December </span><span style=\"color: #5f5f5f; text-decoration-color: #5f5f5f; font-weight: bold\">1</span><span style=\"color: #5f5f5f; text-decoration-color: #5f5f5f\">, </span><span style=\"color: #5f5f5f; text-decoration-color: #5f5f5f; font-weight: bold\">2013</span><span style=\"color: #5f5f5f; text-decoration-color: #5f5f5f\">.</span>\n",
              "<span style=\"color: #5f5f5f; text-decoration-color: #5f5f5f\">    </span>\n",
              "<span style=\"color: #5f5f5f; text-decoration-color: #5f5f5f\">     ARTICLE III - EXTENSIONS</span>\n",
              "<span style=\"color: #5f5f5f; text-decoration-color: #5f5f5f\">    </span>\n",
              "<span style=\"color: #5f5f5f; text-decoration-color: #5f5f5f\">     The parties hereto may elect to extend this Agreement upon such terms and conditions as may be agreed upon in </span>\n",
              "<span style=\"color: #5f5f5f; text-decoration-color: #5f5f5f\">writing and signed by the parties at the time of any such extension.</span>\n",
              "</pre>\n"
            ]
          },
          "metadata": {}
        },
        {
          "output_type": "display_data",
          "data": {
            "text/plain": [
              "\u001b[1;35m...\u001b[0m\u001b[1;35m|<<< Finished Agent RAG \u001b[0m\u001b[1;35m(\u001b[0m\u001b[1;35m3\u001b[0m\u001b[1;35m)\u001b[0m\u001b[1;35m \u001b[0m\n"
            ],
            "text/html": [
              "<pre style=\"white-space:pre;overflow-x:auto;line-height:normal;font-family:Menlo,'DejaVu Sans Mono',consolas,'Courier New',monospace\"><span style=\"color: #800080; text-decoration-color: #800080; font-weight: bold\">...|&lt;&lt;&lt; Finished Agent RAG (</span><span style=\"color: #800080; text-decoration-color: #800080; font-weight: bold\">3</span><span style=\"color: #800080; text-decoration-color: #800080; font-weight: bold\">) </span>\n",
              "</pre>\n"
            ]
          },
          "metadata": {}
        },
        {
          "output_type": "display_data",
          "data": {
            "text/plain": [
              "\u001b[32mThank you for that information. Next, could you provide the monthly rent amount and the deposit required for the \u001b[0m\n",
              "\u001b[32mlease?\u001b[0m\n"
            ],
            "text/html": [
              "<pre style=\"white-space:pre;overflow-x:auto;line-height:normal;font-family:Menlo,'DejaVu Sans Mono',consolas,'Courier New',monospace\"><span style=\"color: #008000; text-decoration-color: #008000\">Thank you for that information. Next, could you provide the monthly rent amount and the deposit required for the </span>\n",
              "<span style=\"color: #008000; text-decoration-color: #008000\">lease?</span>\n",
              "</pre>\n"
            ]
          },
          "metadata": {}
        },
        {
          "output_type": "display_data",
          "data": {
            "text/plain": [
              "\u001b[1;35m...\u001b[0m\u001b[1;35m|>>> Starting Agent RAG \u001b[0m\u001b[1;35m(\u001b[0m\u001b[1;35m3\u001b[0m\u001b[1;35m)\u001b[0m\u001b[1;35m gpt-\u001b[0m\u001b[1;35m4\u001b[0m\u001b[1;35m-turbo \u001b[0m\n"
            ],
            "text/html": [
              "<pre style=\"white-space:pre;overflow-x:auto;line-height:normal;font-family:Menlo,'DejaVu Sans Mono',consolas,'Courier New',monospace\"><span style=\"color: #800080; text-decoration-color: #800080; font-weight: bold\">...|&gt;&gt;&gt; Starting Agent RAG (</span><span style=\"color: #800080; text-decoration-color: #800080; font-weight: bold\">3</span><span style=\"color: #800080; text-decoration-color: #800080; font-weight: bold\">) gpt-</span><span style=\"color: #800080; text-decoration-color: #800080; font-weight: bold\">4</span><span style=\"color: #800080; text-decoration-color: #800080; font-weight: bold\">-turbo </span>\n",
              "</pre>\n"
            ]
          },
          "metadata": {}
        },
        {
          "output_type": "stream",
          "name": "stdout",
          "text": [
            "[orange2]New query: What is the monthly rent amount and the deposit required for the lease?\n"
          ]
        },
        {
          "output_type": "display_data",
          "data": {
            "text/plain": [
              "\u001b[32mThe monthly rent amount for the lease is $\u001b[0m\u001b[1;32m100\u001b[0m\u001b[32m,\u001b[0m\u001b[1;32m000\u001b[0m\u001b[1;32m[\u001b[0m\u001b[32m^\u001b[0m\u001b[1;32m1\u001b[0m\u001b[1;32m]\u001b[0m\u001b[1;32m[\u001b[0m\u001b[32m^\u001b[0m\u001b[1;32m3\u001b[0m\u001b[1;32m]\u001b[0m\u001b[32m, and the deposit required is Twenty Thousand Dollars \u001b[0m\n",
              "\u001b[1;32m(\u001b[0m\u001b[32m$\u001b[0m\u001b[1;32m20\u001b[0m\u001b[32m,\u001b[0m\u001b[1;32m000.00\u001b[0m\u001b[1;32m)\u001b[0m\u001b[1;32m[\u001b[0m\u001b[32m^\u001b[0m\u001b[1;32m1\u001b[0m\u001b[1;32m]\u001b[0m\u001b[32m.\u001b[0m\n"
            ],
            "text/html": [
              "<pre style=\"white-space:pre;overflow-x:auto;line-height:normal;font-family:Menlo,'DejaVu Sans Mono',consolas,'Courier New',monospace\"><span style=\"color: #008000; text-decoration-color: #008000\">The monthly rent amount for the lease is $</span><span style=\"color: #008000; text-decoration-color: #008000; font-weight: bold\">100</span><span style=\"color: #008000; text-decoration-color: #008000\">,</span><span style=\"color: #008000; text-decoration-color: #008000; font-weight: bold\">000</span><span style=\"color: #008000; text-decoration-color: #008000; font-weight: bold\">[</span><span style=\"color: #008000; text-decoration-color: #008000\">^</span><span style=\"color: #008000; text-decoration-color: #008000; font-weight: bold\">1</span><span style=\"color: #008000; text-decoration-color: #008000; font-weight: bold\">][</span><span style=\"color: #008000; text-decoration-color: #008000\">^</span><span style=\"color: #008000; text-decoration-color: #008000; font-weight: bold\">3</span><span style=\"color: #008000; text-decoration-color: #008000; font-weight: bold\">]</span><span style=\"color: #008000; text-decoration-color: #008000\">, and the deposit required is Twenty Thousand Dollars </span>\n",
              "<span style=\"color: #008000; text-decoration-color: #008000; font-weight: bold\">(</span><span style=\"color: #008000; text-decoration-color: #008000\">$</span><span style=\"color: #008000; text-decoration-color: #008000; font-weight: bold\">20</span><span style=\"color: #008000; text-decoration-color: #008000\">,</span><span style=\"color: #008000; text-decoration-color: #008000; font-weight: bold\">000.00</span><span style=\"color: #008000; text-decoration-color: #008000; font-weight: bold\">)[</span><span style=\"color: #008000; text-decoration-color: #008000\">^</span><span style=\"color: #008000; text-decoration-color: #008000; font-weight: bold\">1</span><span style=\"color: #008000; text-decoration-color: #008000; font-weight: bold\">]</span><span style=\"color: #008000; text-decoration-color: #008000\">.</span>\n",
              "</pre>\n"
            ]
          },
          "metadata": {}
        },
        {
          "output_type": "display_data",
          "data": {
            "text/plain": [
              "\u001b[38;5;59mSOURCES:\u001b[0m\n",
              "\u001b[1;38;5;59m[\u001b[0m\u001b[38;5;59m^\u001b[0m\u001b[1;38;5;59m1\u001b[0m\u001b[1;38;5;59m]\u001b[0m\u001b[38;5;59m \u001b[0m\u001b[38;5;59m/content/\u001b[0m\u001b[38;5;59mlease.txt\u001b[0m\n",
              "\u001b[38;5;59m    shall from time to time direct by notice to the Tenant, monthly rent of $\u001b[0m\u001b[1;38;5;59m100\u001b[0m\u001b[38;5;59m,\u001b[0m\u001b[1;38;5;59m000\u001b[0m\u001b[38;5;59m. \u001b[0m\n",
              "\u001b[38;5;59m    Section \u001b[0m\u001b[1;38;5;59m2\u001b[0m\u001b[38;5;59m.  Late Fee.  A late fee in the amount of \u001b[0m\u001b[1;38;5;59m5\u001b[0m\u001b[38;5;59m% of the Monthly Rent shall be assessed if payment is not \u001b[0m\n",
              "\u001b[38;5;59mpostmarked or received by Landlord on or before the tenth day of each month.\u001b[0m\n",
              "\u001b[38;5;59m    \u001b[0m\n",
              "\u001b[38;5;59m     ARTICLE V - SECURITY DEPOSIT\u001b[0m\n",
              "\u001b[38;5;59m    \u001b[0m\n",
              "\u001b[38;5;59m     The Tenant has deposited with the Landlord the sum of Twenty Thousand Dollars \u001b[0m\u001b[1;38;5;59m(\u001b[0m\u001b[38;5;59m$\u001b[0m\u001b[1;38;5;59m20\u001b[0m\u001b[38;5;59m,\u001b[0m\u001b[1;38;5;59m000.00\u001b[0m\u001b[1;38;5;59m)\u001b[0m\u001b[38;5;59m as security for the\u001b[0m\n",
              "\u001b[38;5;59mfull and faithful performance by the Tenant of all the terms of this lease required to be performed by the Tenant.\u001b[0m\n",
              "\u001b[1;38;5;59m[\u001b[0m\u001b[38;5;59m^\u001b[0m\u001b[1;38;5;59m3\u001b[0m\u001b[1;38;5;59m]\u001b[0m\u001b[38;5;59m \u001b[0m\u001b[38;5;59m/content/\u001b[0m\u001b[38;5;59mlease.txt\u001b[0m\n",
              "\u001b[38;5;59m    upon in writing and signed by the parties at the time of any such extension. ARTICLE IV - DETERMINATION OF RENT\u001b[0m\n",
              "\u001b[38;5;59m    \u001b[0m\n",
              "\u001b[38;5;59m     Section \u001b[0m\u001b[1;38;5;59m1\u001b[0m\u001b[38;5;59m. Monthly Rent: The Tenant agrees to pay the Landlord and the Landlord agrees to accept, during the \u001b[0m\n",
              "\u001b[38;5;59mterm hereof, at such place as the Landlord shall from time to time direct by notice to the Tenant, monthly rent of \u001b[0m\n",
              "\u001b[38;5;59m$\u001b[0m\u001b[1;38;5;59m100\u001b[0m\u001b[38;5;59m,\u001b[0m\u001b[1;38;5;59m000\u001b[0m\u001b[38;5;59m.\u001b[0m\n"
            ],
            "text/html": [
              "<pre style=\"white-space:pre;overflow-x:auto;line-height:normal;font-family:Menlo,'DejaVu Sans Mono',consolas,'Courier New',monospace\"><span style=\"color: #5f5f5f; text-decoration-color: #5f5f5f\">SOURCES:</span>\n",
              "<span style=\"color: #5f5f5f; text-decoration-color: #5f5f5f; font-weight: bold\">[</span><span style=\"color: #5f5f5f; text-decoration-color: #5f5f5f\">^</span><span style=\"color: #5f5f5f; text-decoration-color: #5f5f5f; font-weight: bold\">1</span><span style=\"color: #5f5f5f; text-decoration-color: #5f5f5f; font-weight: bold\">]</span><span style=\"color: #5f5f5f; text-decoration-color: #5f5f5f\"> /content/lease.txt</span>\n",
              "<span style=\"color: #5f5f5f; text-decoration-color: #5f5f5f\">    shall from time to time direct by notice to the Tenant, monthly rent of $</span><span style=\"color: #5f5f5f; text-decoration-color: #5f5f5f; font-weight: bold\">100</span><span style=\"color: #5f5f5f; text-decoration-color: #5f5f5f\">,</span><span style=\"color: #5f5f5f; text-decoration-color: #5f5f5f; font-weight: bold\">000</span><span style=\"color: #5f5f5f; text-decoration-color: #5f5f5f\">. </span>\n",
              "<span style=\"color: #5f5f5f; text-decoration-color: #5f5f5f\">    Section </span><span style=\"color: #5f5f5f; text-decoration-color: #5f5f5f; font-weight: bold\">2</span><span style=\"color: #5f5f5f; text-decoration-color: #5f5f5f\">.  Late Fee.  A late fee in the amount of </span><span style=\"color: #5f5f5f; text-decoration-color: #5f5f5f; font-weight: bold\">5</span><span style=\"color: #5f5f5f; text-decoration-color: #5f5f5f\">% of the Monthly Rent shall be assessed if payment is not </span>\n",
              "<span style=\"color: #5f5f5f; text-decoration-color: #5f5f5f\">postmarked or received by Landlord on or before the tenth day of each month.</span>\n",
              "<span style=\"color: #5f5f5f; text-decoration-color: #5f5f5f\">    </span>\n",
              "<span style=\"color: #5f5f5f; text-decoration-color: #5f5f5f\">     ARTICLE V - SECURITY DEPOSIT</span>\n",
              "<span style=\"color: #5f5f5f; text-decoration-color: #5f5f5f\">    </span>\n",
              "<span style=\"color: #5f5f5f; text-decoration-color: #5f5f5f\">     The Tenant has deposited with the Landlord the sum of Twenty Thousand Dollars </span><span style=\"color: #5f5f5f; text-decoration-color: #5f5f5f; font-weight: bold\">(</span><span style=\"color: #5f5f5f; text-decoration-color: #5f5f5f\">$</span><span style=\"color: #5f5f5f; text-decoration-color: #5f5f5f; font-weight: bold\">20</span><span style=\"color: #5f5f5f; text-decoration-color: #5f5f5f\">,</span><span style=\"color: #5f5f5f; text-decoration-color: #5f5f5f; font-weight: bold\">000.00</span><span style=\"color: #5f5f5f; text-decoration-color: #5f5f5f; font-weight: bold\">)</span><span style=\"color: #5f5f5f; text-decoration-color: #5f5f5f\"> as security for the</span>\n",
              "<span style=\"color: #5f5f5f; text-decoration-color: #5f5f5f\">full and faithful performance by the Tenant of all the terms of this lease required to be performed by the Tenant.</span>\n",
              "<span style=\"color: #5f5f5f; text-decoration-color: #5f5f5f; font-weight: bold\">[</span><span style=\"color: #5f5f5f; text-decoration-color: #5f5f5f\">^</span><span style=\"color: #5f5f5f; text-decoration-color: #5f5f5f; font-weight: bold\">3</span><span style=\"color: #5f5f5f; text-decoration-color: #5f5f5f; font-weight: bold\">]</span><span style=\"color: #5f5f5f; text-decoration-color: #5f5f5f\"> /content/lease.txt</span>\n",
              "<span style=\"color: #5f5f5f; text-decoration-color: #5f5f5f\">    upon in writing and signed by the parties at the time of any such extension. ARTICLE IV - DETERMINATION OF RENT</span>\n",
              "<span style=\"color: #5f5f5f; text-decoration-color: #5f5f5f\">    </span>\n",
              "<span style=\"color: #5f5f5f; text-decoration-color: #5f5f5f\">     Section </span><span style=\"color: #5f5f5f; text-decoration-color: #5f5f5f; font-weight: bold\">1</span><span style=\"color: #5f5f5f; text-decoration-color: #5f5f5f\">. Monthly Rent: The Tenant agrees to pay the Landlord and the Landlord agrees to accept, during the </span>\n",
              "<span style=\"color: #5f5f5f; text-decoration-color: #5f5f5f\">term hereof, at such place as the Landlord shall from time to time direct by notice to the Tenant, monthly rent of </span>\n",
              "<span style=\"color: #5f5f5f; text-decoration-color: #5f5f5f\">$</span><span style=\"color: #5f5f5f; text-decoration-color: #5f5f5f; font-weight: bold\">100</span><span style=\"color: #5f5f5f; text-decoration-color: #5f5f5f\">,</span><span style=\"color: #5f5f5f; text-decoration-color: #5f5f5f; font-weight: bold\">000</span><span style=\"color: #5f5f5f; text-decoration-color: #5f5f5f\">.</span>\n",
              "</pre>\n"
            ]
          },
          "metadata": {}
        },
        {
          "output_type": "display_data",
          "data": {
            "text/plain": [
              "\u001b[1;35m...\u001b[0m\u001b[1;35m|<<< Finished Agent RAG \u001b[0m\u001b[1;35m(\u001b[0m\u001b[1;35m5\u001b[0m\u001b[1;35m)\u001b[0m\u001b[1;35m \u001b[0m\n"
            ],
            "text/html": [
              "<pre style=\"white-space:pre;overflow-x:auto;line-height:normal;font-family:Menlo,'DejaVu Sans Mono',consolas,'Courier New',monospace\"><span style=\"color: #800080; text-decoration-color: #800080; font-weight: bold\">...|&lt;&lt;&lt; Finished Agent RAG (</span><span style=\"color: #800080; text-decoration-color: #800080; font-weight: bold\">5</span><span style=\"color: #800080; text-decoration-color: #800080; font-weight: bold\">) </span>\n",
              "</pre>\n"
            ]
          },
          "metadata": {}
        },
        {
          "output_type": "display_data",
          "data": {
            "text/plain": [
              "\u001b[32mGreat, thank you for providing that. Lastly, could you tell me the address of the property being leased?\u001b[0m\n"
            ],
            "text/html": [
              "<pre style=\"white-space:pre;overflow-x:auto;line-height:normal;font-family:Menlo,'DejaVu Sans Mono',consolas,'Courier New',monospace\"><span style=\"color: #008000; text-decoration-color: #008000\">Great, thank you for providing that. Lastly, could you tell me the address of the property being leased?</span>\n",
              "</pre>\n"
            ]
          },
          "metadata": {}
        },
        {
          "output_type": "display_data",
          "data": {
            "text/plain": [
              "\u001b[1;35m...\u001b[0m\u001b[1;35m|>>> Starting Agent RAG \u001b[0m\u001b[1;35m(\u001b[0m\u001b[1;35m5\u001b[0m\u001b[1;35m)\u001b[0m\u001b[1;35m gpt-\u001b[0m\u001b[1;35m4\u001b[0m\u001b[1;35m-turbo \u001b[0m\n"
            ],
            "text/html": [
              "<pre style=\"white-space:pre;overflow-x:auto;line-height:normal;font-family:Menlo,'DejaVu Sans Mono',consolas,'Courier New',monospace\"><span style=\"color: #800080; text-decoration-color: #800080; font-weight: bold\">...|&gt;&gt;&gt; Starting Agent RAG (</span><span style=\"color: #800080; text-decoration-color: #800080; font-weight: bold\">5</span><span style=\"color: #800080; text-decoration-color: #800080; font-weight: bold\">) gpt-</span><span style=\"color: #800080; text-decoration-color: #800080; font-weight: bold\">4</span><span style=\"color: #800080; text-decoration-color: #800080; font-weight: bold\">-turbo </span>\n",
              "</pre>\n"
            ]
          },
          "metadata": {}
        },
        {
          "output_type": "stream",
          "name": "stdout",
          "text": [
            "[orange2]New query: What is the address of the property being leased?\n"
          ]
        },
        {
          "output_type": "display_data",
          "data": {
            "text/plain": [
              "\u001b[32mThe address of the property being leased is \u001b[0m\u001b[1;32m4350\u001b[0m\u001b[32m Temple City Boulevard, El Monte, California \u001b[0m\u001b[1;32m91731\u001b[0m\u001b[1;32m[\u001b[0m\u001b[32m^\u001b[0m\u001b[1;32m1\u001b[0m\u001b[1;32m]\u001b[0m\u001b[32m.\u001b[0m\n"
            ],
            "text/html": [
              "<pre style=\"white-space:pre;overflow-x:auto;line-height:normal;font-family:Menlo,'DejaVu Sans Mono',consolas,'Courier New',monospace\"><span style=\"color: #008000; text-decoration-color: #008000\">The address of the property being leased is </span><span style=\"color: #008000; text-decoration-color: #008000; font-weight: bold\">4350</span><span style=\"color: #008000; text-decoration-color: #008000\"> Temple City Boulevard, El Monte, California </span><span style=\"color: #008000; text-decoration-color: #008000; font-weight: bold\">91731</span><span style=\"color: #008000; text-decoration-color: #008000; font-weight: bold\">[</span><span style=\"color: #008000; text-decoration-color: #008000\">^</span><span style=\"color: #008000; text-decoration-color: #008000; font-weight: bold\">1</span><span style=\"color: #008000; text-decoration-color: #008000; font-weight: bold\">]</span><span style=\"color: #008000; text-decoration-color: #008000\">.</span>\n",
              "</pre>\n"
            ]
          },
          "metadata": {}
        },
        {
          "output_type": "display_data",
          "data": {
            "text/plain": [
              "\u001b[38;5;59mSOURCES:\u001b[0m\n",
              "\u001b[1;38;5;59m[\u001b[0m\u001b[38;5;59m^\u001b[0m\u001b[1;38;5;59m1\u001b[0m\u001b[1;38;5;59m]\u001b[0m\u001b[38;5;59m \u001b[0m\u001b[38;5;59m/content/\u001b[0m\u001b[38;5;59mlease.txt\u001b[0m\n",
              "\u001b[38;5;59m    EX-\u001b[0m\u001b[1;38;5;59m10\u001b[0m\u001b[38;5;59m \u001b[0m\u001b[1;38;5;59m2\u001b[0m\u001b[38;5;59m elmonteleaseforfiling.htm MATERIAL CONTRACT\u001b[0m\n",
              "\u001b[38;5;59m    COMMERCIAL LEASE AGREEMENT\u001b[0m\n",
              "\u001b[38;5;59m    \u001b[0m\n",
              "\u001b[38;5;59m     THIS LEASE AGREEMENT is made and entered into on December \u001b[0m\u001b[1;38;5;59m1\u001b[0m\u001b[38;5;59m, \u001b[0m\u001b[1;38;5;59m2013\u001b[0m\u001b[38;5;59m, by and between Temple CB, LLC, whose \u001b[0m\n",
              "\u001b[38;5;59maddress is \u001b[0m\u001b[1;38;5;59m4350\u001b[0m\u001b[38;5;59m Temple City Boulevard, El Monte, California \u001b[0m\u001b[1;38;5;59m91731\u001b[0m\u001b[38;5;59m \u001b[0m\u001b[1;38;5;59m(\u001b[0m\u001b[38;5;59mhereinafter referred to as \u001b[0m\u001b[38;5;59m\"Landlord\"\u001b[0m\u001b[1;38;5;59m)\u001b[0m\u001b[38;5;59m, and Okra\u001b[0m\n",
              "\u001b[38;5;59mEnergy, Inc., whose address is \u001b[0m\u001b[1;38;5;59m4350\u001b[0m\u001b[38;5;59m Temple City Boulevard, El Monte, California \u001b[0m\u001b[1;38;5;59m91731\u001b[0m\u001b[38;5;59m \u001b[0m\u001b[1;38;5;59m(\u001b[0m\u001b[38;5;59mhereinafter referred to as \u001b[0m\n",
              "\u001b[38;5;59m\"Tenant\"\u001b[0m\u001b[1;38;5;59m)\u001b[0m\u001b[38;5;59m.\u001b[0m\n",
              "\u001b[38;5;59m    \u001b[0m\n",
              "\u001b[38;5;59m     ARTICLE I - GRANT OF LEASE\u001b[0m\n"
            ],
            "text/html": [
              "<pre style=\"white-space:pre;overflow-x:auto;line-height:normal;font-family:Menlo,'DejaVu Sans Mono',consolas,'Courier New',monospace\"><span style=\"color: #5f5f5f; text-decoration-color: #5f5f5f\">SOURCES:</span>\n",
              "<span style=\"color: #5f5f5f; text-decoration-color: #5f5f5f; font-weight: bold\">[</span><span style=\"color: #5f5f5f; text-decoration-color: #5f5f5f\">^</span><span style=\"color: #5f5f5f; text-decoration-color: #5f5f5f; font-weight: bold\">1</span><span style=\"color: #5f5f5f; text-decoration-color: #5f5f5f; font-weight: bold\">]</span><span style=\"color: #5f5f5f; text-decoration-color: #5f5f5f\"> /content/lease.txt</span>\n",
              "<span style=\"color: #5f5f5f; text-decoration-color: #5f5f5f\">    EX-</span><span style=\"color: #5f5f5f; text-decoration-color: #5f5f5f; font-weight: bold\">10</span><span style=\"color: #5f5f5f; text-decoration-color: #5f5f5f\"> </span><span style=\"color: #5f5f5f; text-decoration-color: #5f5f5f; font-weight: bold\">2</span><span style=\"color: #5f5f5f; text-decoration-color: #5f5f5f\"> elmonteleaseforfiling.htm MATERIAL CONTRACT</span>\n",
              "<span style=\"color: #5f5f5f; text-decoration-color: #5f5f5f\">    COMMERCIAL LEASE AGREEMENT</span>\n",
              "<span style=\"color: #5f5f5f; text-decoration-color: #5f5f5f\">    </span>\n",
              "<span style=\"color: #5f5f5f; text-decoration-color: #5f5f5f\">     THIS LEASE AGREEMENT is made and entered into on December </span><span style=\"color: #5f5f5f; text-decoration-color: #5f5f5f; font-weight: bold\">1</span><span style=\"color: #5f5f5f; text-decoration-color: #5f5f5f\">, </span><span style=\"color: #5f5f5f; text-decoration-color: #5f5f5f; font-weight: bold\">2013</span><span style=\"color: #5f5f5f; text-decoration-color: #5f5f5f\">, by and between Temple CB, LLC, whose </span>\n",
              "<span style=\"color: #5f5f5f; text-decoration-color: #5f5f5f\">address is </span><span style=\"color: #5f5f5f; text-decoration-color: #5f5f5f; font-weight: bold\">4350</span><span style=\"color: #5f5f5f; text-decoration-color: #5f5f5f\"> Temple City Boulevard, El Monte, California </span><span style=\"color: #5f5f5f; text-decoration-color: #5f5f5f; font-weight: bold\">91731</span><span style=\"color: #5f5f5f; text-decoration-color: #5f5f5f\"> </span><span style=\"color: #5f5f5f; text-decoration-color: #5f5f5f; font-weight: bold\">(</span><span style=\"color: #5f5f5f; text-decoration-color: #5f5f5f\">hereinafter referred to as </span><span style=\"color: #5f5f5f; text-decoration-color: #5f5f5f\">\"Landlord\"</span><span style=\"color: #5f5f5f; text-decoration-color: #5f5f5f; font-weight: bold\">)</span><span style=\"color: #5f5f5f; text-decoration-color: #5f5f5f\">, and Okra</span>\n",
              "<span style=\"color: #5f5f5f; text-decoration-color: #5f5f5f\">Energy, Inc., whose address is </span><span style=\"color: #5f5f5f; text-decoration-color: #5f5f5f; font-weight: bold\">4350</span><span style=\"color: #5f5f5f; text-decoration-color: #5f5f5f\"> Temple City Boulevard, El Monte, California </span><span style=\"color: #5f5f5f; text-decoration-color: #5f5f5f; font-weight: bold\">91731</span><span style=\"color: #5f5f5f; text-decoration-color: #5f5f5f\"> </span><span style=\"color: #5f5f5f; text-decoration-color: #5f5f5f; font-weight: bold\">(</span><span style=\"color: #5f5f5f; text-decoration-color: #5f5f5f\">hereinafter referred to as </span>\n",
              "<span style=\"color: #5f5f5f; text-decoration-color: #5f5f5f\">\"Tenant\"</span><span style=\"color: #5f5f5f; text-decoration-color: #5f5f5f; font-weight: bold\">)</span><span style=\"color: #5f5f5f; text-decoration-color: #5f5f5f\">.</span>\n",
              "<span style=\"color: #5f5f5f; text-decoration-color: #5f5f5f\">    </span>\n",
              "<span style=\"color: #5f5f5f; text-decoration-color: #5f5f5f\">     ARTICLE I - GRANT OF LEASE</span>\n",
              "</pre>\n"
            ]
          },
          "metadata": {}
        },
        {
          "output_type": "display_data",
          "data": {
            "text/plain": [
              "\u001b[1;35m...\u001b[0m\u001b[1;35m|<<< Finished Agent RAG \u001b[0m\u001b[1;35m(\u001b[0m\u001b[1;35m7\u001b[0m\u001b[1;35m)\u001b[0m\u001b[1;35m \u001b[0m\n"
            ],
            "text/html": [
              "<pre style=\"white-space:pre;overflow-x:auto;line-height:normal;font-family:Menlo,'DejaVu Sans Mono',consolas,'Courier New',monospace\"><span style=\"color: #800080; text-decoration-color: #800080; font-weight: bold\">...|&lt;&lt;&lt; Finished Agent RAG (</span><span style=\"color: #800080; text-decoration-color: #800080; font-weight: bold\">7</span><span style=\"color: #800080; text-decoration-color: #800080; font-weight: bold\">) </span>\n",
              "</pre>\n"
            ]
          },
          "metadata": {}
        },
        {
          "output_type": "display_data",
          "data": {
            "text/plain": [
              "\u001b[32mOAI-TOOL: \u001b[0m\u001b[1;32m{\u001b[0m\n",
              "\u001b[32m  \u001b[0m\u001b[32m\"name\"\u001b[0m\u001b[32m: \u001b[0m\u001b[32m\"lease_info\"\u001b[0m\u001b[32m,\u001b[0m\n",
              "\u001b[32m  \u001b[0m\u001b[32m\"arguments\"\u001b[0m\u001b[32m: \u001b[0m\u001b[1;32m{\u001b[0m\n",
              "\u001b[32m    \u001b[0m\u001b[32m\"terms\"\u001b[0m\u001b[32m: \u001b[0m\u001b[1;32m{\u001b[0m\n",
              "\u001b[32m      \u001b[0m\u001b[32m\"period\"\u001b[0m\u001b[32m: \u001b[0m\u001b[1;32m{\u001b[0m\n",
              "\u001b[32m        \u001b[0m\u001b[32m\"start_date\"\u001b[0m\u001b[32m: \u001b[0m\u001b[32m\"2013-12-01\"\u001b[0m\u001b[32m,\u001b[0m\n",
              "\u001b[32m        \u001b[0m\u001b[32m\"end_date\"\u001b[0m\u001b[32m: \u001b[0m\u001b[32m\"2020-05-31\"\u001b[0m\n",
              "\u001b[32m      \u001b[0m\u001b[1;32m}\u001b[0m\u001b[32m,\u001b[0m\n",
              "\u001b[32m      \u001b[0m\u001b[32m\"financials\"\u001b[0m\u001b[32m: \u001b[0m\u001b[1;32m{\u001b[0m\n",
              "\u001b[32m        \u001b[0m\u001b[32m\"monthly_rent\"\u001b[0m\u001b[32m: \u001b[0m\u001b[32m\"$100,000\"\u001b[0m\u001b[32m,\u001b[0m\n",
              "\u001b[32m        \u001b[0m\u001b[32m\"deposit\"\u001b[0m\u001b[32m: \u001b[0m\u001b[32m\"$20,000\"\u001b[0m\n",
              "\u001b[32m      \u001b[0m\u001b[1;32m}\u001b[0m\u001b[32m,\u001b[0m\n",
              "\u001b[32m      \u001b[0m\u001b[32m\"address\"\u001b[0m\u001b[32m: \u001b[0m\u001b[32m\"4350 Temple City Boulevard, El Monte, California 91731\"\u001b[0m\n",
              "\u001b[32m    \u001b[0m\u001b[1;32m}\u001b[0m\n",
              "\u001b[32m  \u001b[0m\u001b[1;32m}\u001b[0m\n",
              "\u001b[1;32m}\u001b[0m\n"
            ],
            "text/html": [
              "<pre style=\"white-space:pre;overflow-x:auto;line-height:normal;font-family:Menlo,'DejaVu Sans Mono',consolas,'Courier New',monospace\"><span style=\"color: #008000; text-decoration-color: #008000\">OAI-TOOL: </span><span style=\"color: #008000; text-decoration-color: #008000; font-weight: bold\">{</span>\n",
              "<span style=\"color: #008000; text-decoration-color: #008000\">  </span><span style=\"color: #008000; text-decoration-color: #008000\">\"name\"</span><span style=\"color: #008000; text-decoration-color: #008000\">: </span><span style=\"color: #008000; text-decoration-color: #008000\">\"lease_info\"</span><span style=\"color: #008000; text-decoration-color: #008000\">,</span>\n",
              "<span style=\"color: #008000; text-decoration-color: #008000\">  </span><span style=\"color: #008000; text-decoration-color: #008000\">\"arguments\"</span><span style=\"color: #008000; text-decoration-color: #008000\">: </span><span style=\"color: #008000; text-decoration-color: #008000; font-weight: bold\">{</span>\n",
              "<span style=\"color: #008000; text-decoration-color: #008000\">    </span><span style=\"color: #008000; text-decoration-color: #008000\">\"terms\"</span><span style=\"color: #008000; text-decoration-color: #008000\">: </span><span style=\"color: #008000; text-decoration-color: #008000; font-weight: bold\">{</span>\n",
              "<span style=\"color: #008000; text-decoration-color: #008000\">      </span><span style=\"color: #008000; text-decoration-color: #008000\">\"period\"</span><span style=\"color: #008000; text-decoration-color: #008000\">: </span><span style=\"color: #008000; text-decoration-color: #008000; font-weight: bold\">{</span>\n",
              "<span style=\"color: #008000; text-decoration-color: #008000\">        </span><span style=\"color: #008000; text-decoration-color: #008000\">\"start_date\"</span><span style=\"color: #008000; text-decoration-color: #008000\">: </span><span style=\"color: #008000; text-decoration-color: #008000\">\"2013-12-01\"</span><span style=\"color: #008000; text-decoration-color: #008000\">,</span>\n",
              "<span style=\"color: #008000; text-decoration-color: #008000\">        </span><span style=\"color: #008000; text-decoration-color: #008000\">\"end_date\"</span><span style=\"color: #008000; text-decoration-color: #008000\">: </span><span style=\"color: #008000; text-decoration-color: #008000\">\"2020-05-31\"</span>\n",
              "<span style=\"color: #008000; text-decoration-color: #008000\">      </span><span style=\"color: #008000; text-decoration-color: #008000; font-weight: bold\">}</span><span style=\"color: #008000; text-decoration-color: #008000\">,</span>\n",
              "<span style=\"color: #008000; text-decoration-color: #008000\">      </span><span style=\"color: #008000; text-decoration-color: #008000\">\"financials\"</span><span style=\"color: #008000; text-decoration-color: #008000\">: </span><span style=\"color: #008000; text-decoration-color: #008000; font-weight: bold\">{</span>\n",
              "<span style=\"color: #008000; text-decoration-color: #008000\">        </span><span style=\"color: #008000; text-decoration-color: #008000\">\"monthly_rent\"</span><span style=\"color: #008000; text-decoration-color: #008000\">: </span><span style=\"color: #008000; text-decoration-color: #008000\">\"$100,000\"</span><span style=\"color: #008000; text-decoration-color: #008000\">,</span>\n",
              "<span style=\"color: #008000; text-decoration-color: #008000\">        </span><span style=\"color: #008000; text-decoration-color: #008000\">\"deposit\"</span><span style=\"color: #008000; text-decoration-color: #008000\">: </span><span style=\"color: #008000; text-decoration-color: #008000\">\"$20,000\"</span>\n",
              "<span style=\"color: #008000; text-decoration-color: #008000\">      </span><span style=\"color: #008000; text-decoration-color: #008000; font-weight: bold\">}</span><span style=\"color: #008000; text-decoration-color: #008000\">,</span>\n",
              "<span style=\"color: #008000; text-decoration-color: #008000\">      </span><span style=\"color: #008000; text-decoration-color: #008000\">\"address\"</span><span style=\"color: #008000; text-decoration-color: #008000\">: </span><span style=\"color: #008000; text-decoration-color: #008000\">\"4350 Temple City Boulevard, El Monte, California 91731\"</span>\n",
              "<span style=\"color: #008000; text-decoration-color: #008000\">    </span><span style=\"color: #008000; text-decoration-color: #008000; font-weight: bold\">}</span>\n",
              "<span style=\"color: #008000; text-decoration-color: #008000\">  </span><span style=\"color: #008000; text-decoration-color: #008000; font-weight: bold\">}</span>\n",
              "<span style=\"color: #008000; text-decoration-color: #008000; font-weight: bold\">}</span>\n",
              "</pre>\n"
            ]
          },
          "metadata": {}
        },
        {
          "output_type": "stream",
          "name": "stdout",
          "text": [
            "DONE! Successfully extracted Lease Info:period=LeasePeriod(start_date='2013-12-01', end_date='2020-05-31') financials=LeaseFinancials(monthly_rent='$100,000', deposit='$20,000') address='4350 Temple City Boulevard, El Monte, California 91731'\n"
          ]
        },
        {
          "output_type": "display_data",
          "data": {
            "text/plain": [
              "\u001b[31mAgent: DONE \u001b[0m\u001b[1;31m{\u001b[0m\u001b[31m\"period\"\u001b[0m\u001b[31m: \u001b[0m\u001b[1;31m{\u001b[0m\u001b[31m\"start_date\"\u001b[0m\u001b[31m: \u001b[0m\u001b[31m\"2013-12-01\"\u001b[0m\u001b[31m, \u001b[0m\u001b[31m\"end_date\"\u001b[0m\u001b[31m: \u001b[0m\u001b[31m\"2020-05-31\"\u001b[0m\u001b[1;31m}\u001b[0m\u001b[31m, \u001b[0m\u001b[31m\"financials\"\u001b[0m\u001b[31m: \u001b[0m\u001b[1;31m{\u001b[0m\u001b[31m\"monthly_rent\"\u001b[0m\u001b[31m: \u001b[0m\n",
              "\u001b[31m\"$100,000\"\u001b[0m\u001b[31m, \u001b[0m\u001b[31m\"deposit\"\u001b[0m\u001b[31m: \u001b[0m\u001b[31m\"$20,000\"\u001b[0m\u001b[1;31m}\u001b[0m\u001b[31m, \u001b[0m\u001b[31m\"address\"\u001b[0m\u001b[31m: \u001b[0m\u001b[31m\"4350 Temple City Boulevard, El Monte, California 91731\"\u001b[0m\u001b[1;31m}\u001b[0m\n"
            ],
            "text/html": [
              "<pre style=\"white-space:pre;overflow-x:auto;line-height:normal;font-family:Menlo,'DejaVu Sans Mono',consolas,'Courier New',monospace\"><span style=\"color: #800000; text-decoration-color: #800000\">Agent: DONE </span><span style=\"color: #800000; text-decoration-color: #800000; font-weight: bold\">{</span><span style=\"color: #800000; text-decoration-color: #800000\">\"period\"</span><span style=\"color: #800000; text-decoration-color: #800000\">: </span><span style=\"color: #800000; text-decoration-color: #800000; font-weight: bold\">{</span><span style=\"color: #800000; text-decoration-color: #800000\">\"start_date\"</span><span style=\"color: #800000; text-decoration-color: #800000\">: </span><span style=\"color: #800000; text-decoration-color: #800000\">\"2013-12-01\"</span><span style=\"color: #800000; text-decoration-color: #800000\">, </span><span style=\"color: #800000; text-decoration-color: #800000\">\"end_date\"</span><span style=\"color: #800000; text-decoration-color: #800000\">: </span><span style=\"color: #800000; text-decoration-color: #800000\">\"2020-05-31\"</span><span style=\"color: #800000; text-decoration-color: #800000; font-weight: bold\">}</span><span style=\"color: #800000; text-decoration-color: #800000\">, </span><span style=\"color: #800000; text-decoration-color: #800000\">\"financials\"</span><span style=\"color: #800000; text-decoration-color: #800000\">: </span><span style=\"color: #800000; text-decoration-color: #800000; font-weight: bold\">{</span><span style=\"color: #800000; text-decoration-color: #800000\">\"monthly_rent\"</span><span style=\"color: #800000; text-decoration-color: #800000\">: </span>\n",
              "<span style=\"color: #800000; text-decoration-color: #800000\">\"$100,000\"</span><span style=\"color: #800000; text-decoration-color: #800000\">, </span><span style=\"color: #800000; text-decoration-color: #800000\">\"deposit\"</span><span style=\"color: #800000; text-decoration-color: #800000\">: </span><span style=\"color: #800000; text-decoration-color: #800000\">\"$20,000\"</span><span style=\"color: #800000; text-decoration-color: #800000; font-weight: bold\">}</span><span style=\"color: #800000; text-decoration-color: #800000\">, </span><span style=\"color: #800000; text-decoration-color: #800000\">\"address\"</span><span style=\"color: #800000; text-decoration-color: #800000\">: </span><span style=\"color: #800000; text-decoration-color: #800000\">\"4350 Temple City Boulevard, El Monte, California 91731\"</span><span style=\"color: #800000; text-decoration-color: #800000; font-weight: bold\">}</span>\n",
              "</pre>\n"
            ]
          },
          "metadata": {}
        },
        {
          "output_type": "display_data",
          "data": {
            "text/plain": [
              "\u001b[35mBye, hope this was useful!\u001b[0m\n"
            ],
            "text/html": [
              "<pre style=\"white-space:pre;overflow-x:auto;line-height:normal;font-family:Menlo,'DejaVu Sans Mono',consolas,'Courier New',monospace\"><span style=\"color: #800080; text-decoration-color: #800080\">Bye, hope this was useful!</span>\n",
              "</pre>\n"
            ]
          },
          "metadata": {}
        },
        {
          "output_type": "display_data",
          "data": {
            "text/plain": [
              "\u001b[1;35m<<< Finished Agent LeaseExtractor \u001b[0m\u001b[1;35m(\u001b[0m\u001b[1;35m9\u001b[0m\u001b[1;35m)\u001b[0m\u001b[1;35m \u001b[0m\n"
            ],
            "text/html": [
              "<pre style=\"white-space:pre;overflow-x:auto;line-height:normal;font-family:Menlo,'DejaVu Sans Mono',consolas,'Courier New',monospace\"><span style=\"color: #800080; text-decoration-color: #800080; font-weight: bold\">&lt;&lt;&lt; Finished Agent LeaseExtractor (</span><span style=\"color: #800080; text-decoration-color: #800080; font-weight: bold\">9</span><span style=\"color: #800080; text-decoration-color: #800080; font-weight: bold\">) </span>\n",
              "</pre>\n"
            ]
          },
          "metadata": {}
        },
        {
          "output_type": "execute_result",
          "data": {
            "text/plain": [
              "ChatDocument(content='{\"period\": {\"start_date\": \"2013-12-01\", \"end_date\": \"2020-05-31\"}, \"financials\": {\"monthly_rent\": \"$100,000\", \"deposit\": \"$20,000\"}, \"address\": \"4350 Temple City Boulevard, El Monte, California 91731\"}', metadata=ChatDocMetaData(source='User', source_content='context', title='Unknown Title', published_date='Unknown Date', is_chunk=False, id='e1e0519b-5e99-4f47-8fcb-32a6a7d667f6', window_ids=[], parent_id='46776a1a-a58d-423d-819d-f0e765d19755', child_id='', agent_id='default=PydanticUndefined default_factory=<function Agent.<lambda> at 0x7bbc70a127a0> extra={}', msg_idx=-1, sender=<Entity.USER: 'User'>, oai_tool_id=None, tool_ids=[], block=None, sender_name='LeaseExtractor', recipient='', usage=None, cached=False, displayed=False, has_citation=False, status=<StatusCode.DONE: 'DONE'>), reasoning='', content_any='DONE {\"period\": {\"start_date\": \"2013-12-01\", \"end_date\": \"2020-05-31\"}, \"financials\": {\"monthly_rent\": \"$100,000\", \"deposit\": \"$20,000\"}, \"address\": \"4350 Temple City Boulevard, El Monte, California 91731\"}', files=[], oai_tool_calls=None, oai_tool_id2result=None, oai_tool_choice='auto', function_call=None, tool_messages=[], all_tool_messages=[], attachment=None)"
            ]
          },
          "metadata": {},
          "execution_count": 23
        }
      ]
    },
    {
      "cell_type": "code",
      "source": [],
      "metadata": {
        "id": "-zfNvsH5PMpJ"
      },
      "execution_count": null,
      "outputs": []
    }
  ]
}